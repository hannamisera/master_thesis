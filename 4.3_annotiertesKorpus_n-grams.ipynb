{
 "cells": [
  {
   "cell_type": "markdown",
   "id": "1de0c62d",
   "metadata": {},
   "source": [
    "# 4.3\tInhaltliche Untersuchung des annotierten Goldstandard-Korpus"
   ]
  },
  {
   "cell_type": "markdown",
   "id": "965edf0a",
   "metadata": {},
   "source": [
    "#### Ziel: inhaltliche Analyse mit Hilfe von N-Grams. Es soll gezeigt werden, dass sich die Ergebnisse von Untersuchungen des Goldstandard-Korpus unterscheiden"
   ]
  },
  {
   "cell_type": "markdown",
   "id": "1d9e2a98",
   "metadata": {},
   "source": [
    "## 2. Bibliotheken"
   ]
  },
  {
   "cell_type": "code",
   "execution_count": 1,
   "id": "bc66ba2f",
   "metadata": {},
   "outputs": [],
   "source": [
    "import pandas as pd\n",
    "import matplotlib.pyplot as plt\n",
    "import seaborn as sns\n",
    "from nltk.util import ngrams\n",
    "import nltk\n",
    "from nltk.tokenize import word_tokenize"
   ]
  },
  {
   "cell_type": "markdown",
   "id": "fe7fc197",
   "metadata": {},
   "source": [
    "## 3. Funktionen"
   ]
  },
  {
   "cell_type": "code",
   "execution_count": 2,
   "id": "f6ea9f33",
   "metadata": {},
   "outputs": [],
   "source": [
    "def preprocessing_custom(df, column_inputText, newColumnName):\n",
    "    \"\"\"\n",
    "    Uses a dataframe and preprocesses the text in the given column.\n",
    "    Step 1: replace some chars\n",
    "    (\"\\n\", \" \"), (\"- \",\"\"), (\" -\",\"\"), (\"-\",\"\"), (\"''\",\"\"), (\",,\",\"\"), (\"„\",\"\"), (\"ſ\", \"s\"), (\"é\",\"e\"),\n",
    "    (\"è\",\"e\"),(\"á\",\"a\"), (\"à\",\"a\"), (\"⸗-\",\"\"), (\"⸗ und\",\" und\"), (\"⸗ \",\" \"), (\" ⸗\",\" \"), (\"⸗\",\"\"), (\"- \",\" \"), (\"-\",\"\"), (\" -\",\" \"),\n",
    "    (\"#\",\" \"), (\"⸗\\n\",\"\"), (\"-\\n\",\"\")\n",
    "    Step 2: lower all chars in column\n",
    "    Step 3: remove all punctuation\n",
    "    Step 4: remove lone letters and additional whitespace\n",
    "    The following libaries are needed:\n",
    "    pandas as pd\n",
    "    \"\"\"\n",
    "    #replace some chars\n",
    "    df[newColumnName] = df[column_inputText].str.replace(\"-\\n\",\"\")\n",
    "    df[newColumnName] = df[newColumnName].str.replace(\"- \",\" \")\n",
    "    df[newColumnName] = df[newColumnName].str.replace(\" -\",\" \")\n",
    "    df[newColumnName] = df[newColumnName].str.replace(\"-\",\"\")\n",
    "    df[newColumnName] = df[newColumnName].str.replace(\"⸗ und\",\" und\")\n",
    "    df[newColumnName] = df[newColumnName].str.replace(\"⸗ \",\" \")\n",
    "    df[newColumnName] = df[newColumnName].str.replace(\" ⸗\",\"\")\n",
    "    df[newColumnName] = df[newColumnName].str.replace(\"⸗\\n\",\"\")\n",
    "    df[newColumnName] = df[newColumnName].str.replace(\"⸗\",\"\")\n",
    "    df[newColumnName] = df[newColumnName].str.replace(\"#\",\" \")\n",
    "    df[newColumnName] = df[newColumnName].str.replace(\"\\n\", \" \")\n",
    "    df[newColumnName] = df[newColumnName].str.replace(\"'\",\"\")\n",
    "    df[newColumnName] = df[newColumnName].str.replace('\"',\"\")\n",
    "    df[newColumnName] = df[newColumnName].str.replace(\",,\",\"\")\n",
    "    df[newColumnName] = df[newColumnName].str.replace(\"„\",\"\")\n",
    "    df[newColumnName] = df[newColumnName].str.replace(\"ſ\", \"s\")\n",
    "    df[newColumnName] = df[newColumnName].str.replace(\"é\",\"e\")\n",
    "    df[newColumnName] = df[newColumnName].str.replace(\"è\",\"e\")\n",
    "    df[newColumnName] = df[newColumnName].str.replace(\"á\",\"a\")\n",
    "    df[newColumnName] = df[newColumnName].str.replace(\"à\",\"a\")\n",
    "    \n",
    "    #lower all words\n",
    "    df[newColumnName] = df[newColumnName].str.lower()\n",
    "    # remove all punctuation\n",
    "    df[newColumnName] = df[newColumnName].str.replace('[^\\w\\s]','')\n",
    "    # remove lone letters and additional whitespace\n",
    "    df[newColumnName] = df[newColumnName].str.replace(r'\\b\\w\\b', '').str.replace(r'\\s+', ' ')\n",
    "    return df\n",
    "\n",
    "def tokenize(df, column_inputText, newColumnName):\n",
    "    \"\"\"\n",
    "    Needs the following import:\n",
    "    import nltk\n",
    "    from nltk.tokenize import word_tokenize\n",
    "    \n",
    "    Needs a datframe with a text (string) column\n",
    "    1. creates a new column\n",
    "    2. tokenizes the text in the new column\n",
    "    3. return df\n",
    "    \"\"\"\n",
    "    df[newColumnName] = df[column_inputText].astype(str)\n",
    "    df[newColumnName] = df[newColumnName].apply(word_tokenize)\n",
    "    return df\n",
    "\n",
    "\n",
    "def detokenize(df, column_inputText, newColumnName):\n",
    "    \"\"\"\n",
    "    Needs a dataframe with a tokenized text column (column_inputText)\n",
    "    1. creates a new column\n",
    "    2. joins Text in List format to string\n",
    "    3. return df\n",
    "    \"\"\"\n",
    "    df[newColumnName] = [' '.join(map(str, l)) for l in df[column_inputText]]\n",
    "    return df\n",
    "\n",
    "\n",
    "def no_stopwords(df, column_inputText, newColumnName):\n",
    "    \"\"\"\n",
    "    Needs the following import:\n",
    "    import pandas as pd\n",
    "    import nltk\n",
    "    from nltk.tokenize import word_tokenize\n",
    "    \n",
    "    Needs a dataframe with tokenized text (list) column and list with stopwords named \"stopwords\"\n",
    "    1. creates a new column\n",
    "    2. reases all the stopwords from the new text column\n",
    "    3. return df\n",
    "    \"\"\"\n",
    "    stop_words = set(stopwords)\n",
    "    df[newColumnName] = df[column_inputText].apply(lambda x: [item for item in x if item not in stop_words])\n",
    "    return df\n",
    "\n",
    "def plot_top_ngrams_barchart(text, n, plot_headline):\n",
    "    \"\"\"\n",
    "    Needs: \n",
    "    text: a string input from a pandas dataframe column \n",
    "    n: number to define the word-sequence (as int)\n",
    "    plot_headline: Define the headline of the bar chart (string)\n",
    "    Step 1: splits the text and saves everything in a list. \n",
    "            Note that all words of the dataframe are put in one list.\n",
    "    Step 2: uses nltk.utils ngrams() to convert the list to bigrams\n",
    "    Step 3: convert list to pandas dataframe with all n-grams as strings and their frequencies\n",
    "    Step 4: saves the top 15 popular bigrams as a new pandas dataframe\n",
    "    Step 5: visualize the top 15 popular bigrams in bar chart\n",
    "    The following libaries are needed:\n",
    "    from nltk.util import ngrams\n",
    "    import pandas as pd\n",
    "    import matplotlib.pyplot as plt\n",
    "    import seaborn as sns\n",
    "    \"\"\"\n",
    "    lst_df = text.str.split()\n",
    "    lst_in_lst = lst_df.values.tolist()\n",
    "    lst = [word for i in lst_in_lst for word in i]\n",
    "    \n",
    "    ngrams_list = list(ngrams(lst, n))\n",
    "    \n",
    "    ngrams_dict = {x:ngrams_list.count(x) for x in ngrams_list}\n",
    "    df_ngrams = pd.DataFrame(list(ngrams_dict.items()), columns=['ngrams', 'Anzahl'])\n",
    "    df_ngrams[\"ngrams\"] = df_ngrams[\"ngrams\"].astype(str)\n",
    "    df_ngrams[\"ngrams\"] = df_ngrams[\"ngrams\"].str.strip('()')\n",
    "    df_ngrams[\"ngrams\"] = df_ngrams[\"ngrams\"].str.replace(\"'\",\"\")\n",
    "    df_ngrams[\"ngrams\"] = df_ngrams[\"ngrams\"].str.replace(\",\",\"\")\n",
    "    df_ngrams = df_ngrams.sort_values('Anzahl', ascending=False)\n",
    "    \n",
    "    df_popular_ngrams = df_ngrams[:15]\n",
    "    y = df_popular_ngrams[\"Anzahl\"]\n",
    "    x = df_popular_ngrams[\"ngrams\"]\n",
    "    plt.figure(figsize=(10,12))\n",
    "    sns.barplot(x=y,y=x)\n",
    "    plt.title(plot_headline, fontsize = 20)\n",
    "    plt.xlabel(\"Anzahl der ngrams\", fontsize = 14)\n",
    "    plt.ylabel(\"Top 15 der ngrams in Stellenanzeigen\", fontsize = 14)"
   ]
  },
  {
   "cell_type": "markdown",
   "id": "37fd2bf0",
   "metadata": {},
   "source": [
    "## 3. Erstellung eines Datensets"
   ]
  },
  {
   "cell_type": "markdown",
   "id": "a1d186f5",
   "metadata": {},
   "source": [
    "### 3.1. Datenimport"
   ]
  },
  {
   "cell_type": "markdown",
   "id": "301d1726",
   "metadata": {},
   "source": [
    "#### Import des annotierten Samples aus Notebook 4.2"
   ]
  },
  {
   "cell_type": "code",
   "execution_count": 3,
   "id": "26008038",
   "metadata": {},
   "outputs": [
    {
     "data": {
      "text/html": [
       "<div>\n",
       "<style scoped>\n",
       "    .dataframe tbody tr th:only-of-type {\n",
       "        vertical-align: middle;\n",
       "    }\n",
       "\n",
       "    .dataframe tbody tr th {\n",
       "        vertical-align: top;\n",
       "    }\n",
       "\n",
       "    .dataframe thead th {\n",
       "        text-align: right;\n",
       "    }\n",
       "</style>\n",
       "<table border=\"1\" class=\"dataframe\">\n",
       "  <thead>\n",
       "    <tr style=\"text-align: right;\">\n",
       "      <th></th>\n",
       "      <th>identifier</th>\n",
       "      <th>ground_truth_text</th>\n",
       "      <th>stellenbeschreibung</th>\n",
       "      <th>kommunikationsbeschreibung</th>\n",
       "    </tr>\n",
       "  </thead>\n",
       "  <tbody>\n",
       "    <tr>\n",
       "      <th>0</th>\n",
       "      <td>aze_19111212_12_SEARCH_2</td>\n",
       "      <td>Kinderloses Ehepaar\\nsucht Hausbesorgerposten ...</td>\n",
       "      <td>Kinderloses Ehepaar\\nsucht Hausbesorgerposten \\n</td>\n",
       "      <td>im XVI. oder\\nXVII. Bezirk. Zuschriften unter ...</td>\n",
       "    </tr>\n",
       "    <tr>\n",
       "      <th>1</th>\n",
       "      <td>aze_19161029_17_OFFER_69</td>\n",
       "      <td>Bürstenmachergehilfen\\nBohrer, Drechsler, Einz...</td>\n",
       "      <td>Bürstenmachergehilfen\\nBohrer, Drechsler, Einz...</td>\n",
       "      <td>XIV.\\nReindorfgasse 35. 4852</td>\n",
       "    </tr>\n",
       "    <tr>\n",
       "      <th>2</th>\n",
       "      <td>aze_19161029_17_OFFER_57</td>\n",
       "      <td>Maschinnäherin\\nwelche sich auch zu anderen Ar...</td>\n",
       "      <td>Maschinnäherin\\nwelche sich auch zu anderen Ar...</td>\n",
       "      <td>II. Vereinsgasse 27. 349</td>\n",
       "    </tr>\n",
       "    <tr>\n",
       "      <th>3</th>\n",
       "      <td>aze_19171111_11_OFFER_86</td>\n",
       "      <td>Fabriks-Buchhalterin\\nwird bei hohem Gehalt so...</td>\n",
       "      <td>Fabriks-Buchhalterin\\nwird bei hohem Gehalt so...</td>\n",
       "      <td>XII. Bez., Meidlinger Haupt-\\nstraße 32. 9848</td>\n",
       "    </tr>\n",
       "    <tr>\n",
       "      <th>4</th>\n",
       "      <td>aze_19180310_11_OFFER_11</td>\n",
       "      <td>Militärkappenmacher\\noder Kappennäherin werden...</td>\n",
       "      <td>Militärkappenmacher\\noder Kappennäherin werden...</td>\n",
       "      <td>VII.\\nKirchengasse 9 A. 7446</td>\n",
       "    </tr>\n",
       "  </tbody>\n",
       "</table>\n",
       "</div>"
      ],
      "text/plain": [
       "                 identifier  \\\n",
       "0  aze_19111212_12_SEARCH_2   \n",
       "1  aze_19161029_17_OFFER_69   \n",
       "2  aze_19161029_17_OFFER_57   \n",
       "3  aze_19171111_11_OFFER_86   \n",
       "4  aze_19180310_11_OFFER_11   \n",
       "\n",
       "                                   ground_truth_text  \\\n",
       "0  Kinderloses Ehepaar\\nsucht Hausbesorgerposten ...   \n",
       "1  Bürstenmachergehilfen\\nBohrer, Drechsler, Einz...   \n",
       "2  Maschinnäherin\\nwelche sich auch zu anderen Ar...   \n",
       "3  Fabriks-Buchhalterin\\nwird bei hohem Gehalt so...   \n",
       "4  Militärkappenmacher\\noder Kappennäherin werden...   \n",
       "\n",
       "                                 stellenbeschreibung  \\\n",
       "0   Kinderloses Ehepaar\\nsucht Hausbesorgerposten \\n   \n",
       "1  Bürstenmachergehilfen\\nBohrer, Drechsler, Einz...   \n",
       "2  Maschinnäherin\\nwelche sich auch zu anderen Ar...   \n",
       "3  Fabriks-Buchhalterin\\nwird bei hohem Gehalt so...   \n",
       "4  Militärkappenmacher\\noder Kappennäherin werden...   \n",
       "\n",
       "                          kommunikationsbeschreibung  \n",
       "0  im XVI. oder\\nXVII. Bezirk. Zuschriften unter ...  \n",
       "1                       XIV.\\nReindorfgasse 35. 4852  \n",
       "2                           II. Vereinsgasse 27. 349  \n",
       "3      XII. Bez., Meidlinger Haupt-\\nstraße 32. 9848  \n",
       "4                       VII.\\nKirchengasse 9 A. 7446  "
      ]
     },
     "execution_count": 3,
     "metadata": {},
     "output_type": "execute_result"
    }
   ],
   "source": [
    "df = pd.read_csv('../output/4.2_sample_für_annotation_ground_truth/ground_truth_sample_manuell_annotiert.csv', sep =',')\n",
    "df.head()"
   ]
  },
  {
   "cell_type": "markdown",
   "id": "811c6874",
   "metadata": {},
   "source": [
    "#### Import der Stopwords als Liste"
   ]
  },
  {
   "cell_type": "code",
   "execution_count": 4,
   "id": "d679c0ae",
   "metadata": {},
   "outputs": [],
   "source": [
    "with open('../input/stopwords.txt') as f:\n",
    "        stopwords = f.read().splitlines()"
   ]
  },
  {
   "cell_type": "markdown",
   "id": "5ccaf67d",
   "metadata": {},
   "source": [
    "### 3.2. Daten Normalisierung "
   ]
  },
  {
   "cell_type": "markdown",
   "id": "dbd883f4",
   "metadata": {},
   "source": [
    "#### Stellenbeschreibung"
   ]
  },
  {
   "cell_type": "code",
   "execution_count": 5,
   "id": "897088d1",
   "metadata": {},
   "outputs": [],
   "source": [
    "columnname = \"stellenbeschreibung\""
   ]
  },
  {
   "cell_type": "code",
   "execution_count": 6,
   "id": "a2e448a0",
   "metadata": {},
   "outputs": [
    {
     "data": {
      "text/html": [
       "<div>\n",
       "<style scoped>\n",
       "    .dataframe tbody tr th:only-of-type {\n",
       "        vertical-align: middle;\n",
       "    }\n",
       "\n",
       "    .dataframe tbody tr th {\n",
       "        vertical-align: top;\n",
       "    }\n",
       "\n",
       "    .dataframe thead th {\n",
       "        text-align: right;\n",
       "    }\n",
       "</style>\n",
       "<table border=\"1\" class=\"dataframe\">\n",
       "  <thead>\n",
       "    <tr style=\"text-align: right;\">\n",
       "      <th></th>\n",
       "      <th>identifier</th>\n",
       "      <th>ground_truth_text</th>\n",
       "      <th>stellenbeschreibung</th>\n",
       "      <th>kommunikationsbeschreibung</th>\n",
       "    </tr>\n",
       "  </thead>\n",
       "  <tbody>\n",
       "    <tr>\n",
       "      <th>0</th>\n",
       "      <td>aze_19111212_12_SEARCH_2</td>\n",
       "      <td>Kinderloses Ehepaar\\nsucht Hausbesorgerposten ...</td>\n",
       "      <td>Kinderloses Ehepaar\\nsucht Hausbesorgerposten \\n</td>\n",
       "      <td>im XVI. oder\\nXVII. Bezirk. Zuschriften unter ...</td>\n",
       "    </tr>\n",
       "    <tr>\n",
       "      <th>1</th>\n",
       "      <td>aze_19161029_17_OFFER_69</td>\n",
       "      <td>Bürstenmachergehilfen\\nBohrer, Drechsler, Einz...</td>\n",
       "      <td>Bürstenmachergehilfen\\nBohrer, Drechsler, Einz...</td>\n",
       "      <td>XIV.\\nReindorfgasse 35. 4852</td>\n",
       "    </tr>\n",
       "    <tr>\n",
       "      <th>2</th>\n",
       "      <td>aze_19161029_17_OFFER_57</td>\n",
       "      <td>Maschinnäherin\\nwelche sich auch zu anderen Ar...</td>\n",
       "      <td>Maschinnäherin\\nwelche sich auch zu anderen Ar...</td>\n",
       "      <td>II. Vereinsgasse 27. 349</td>\n",
       "    </tr>\n",
       "    <tr>\n",
       "      <th>3</th>\n",
       "      <td>aze_19171111_11_OFFER_86</td>\n",
       "      <td>Fabriks-Buchhalterin\\nwird bei hohem Gehalt so...</td>\n",
       "      <td>Fabriks-Buchhalterin\\nwird bei hohem Gehalt so...</td>\n",
       "      <td>XII. Bez., Meidlinger Haupt-\\nstraße 32. 9848</td>\n",
       "    </tr>\n",
       "    <tr>\n",
       "      <th>4</th>\n",
       "      <td>aze_19180310_11_OFFER_11</td>\n",
       "      <td>Militärkappenmacher\\noder Kappennäherin werden...</td>\n",
       "      <td>Militärkappenmacher\\noder Kappennäherin werden...</td>\n",
       "      <td>VII.\\nKirchengasse 9 A. 7446</td>\n",
       "    </tr>\n",
       "  </tbody>\n",
       "</table>\n",
       "</div>"
      ],
      "text/plain": [
       "                 identifier  \\\n",
       "0  aze_19111212_12_SEARCH_2   \n",
       "1  aze_19161029_17_OFFER_69   \n",
       "2  aze_19161029_17_OFFER_57   \n",
       "3  aze_19171111_11_OFFER_86   \n",
       "4  aze_19180310_11_OFFER_11   \n",
       "\n",
       "                                   ground_truth_text  \\\n",
       "0  Kinderloses Ehepaar\\nsucht Hausbesorgerposten ...   \n",
       "1  Bürstenmachergehilfen\\nBohrer, Drechsler, Einz...   \n",
       "2  Maschinnäherin\\nwelche sich auch zu anderen Ar...   \n",
       "3  Fabriks-Buchhalterin\\nwird bei hohem Gehalt so...   \n",
       "4  Militärkappenmacher\\noder Kappennäherin werden...   \n",
       "\n",
       "                                 stellenbeschreibung  \\\n",
       "0   Kinderloses Ehepaar\\nsucht Hausbesorgerposten \\n   \n",
       "1  Bürstenmachergehilfen\\nBohrer, Drechsler, Einz...   \n",
       "2  Maschinnäherin\\nwelche sich auch zu anderen Ar...   \n",
       "3  Fabriks-Buchhalterin\\nwird bei hohem Gehalt so...   \n",
       "4  Militärkappenmacher\\noder Kappennäherin werden...   \n",
       "\n",
       "                          kommunikationsbeschreibung  \n",
       "0  im XVI. oder\\nXVII. Bezirk. Zuschriften unter ...  \n",
       "1                       XIV.\\nReindorfgasse 35. 4852  \n",
       "2                           II. Vereinsgasse 27. 349  \n",
       "3      XII. Bez., Meidlinger Haupt-\\nstraße 32. 9848  \n",
       "4                       VII.\\nKirchengasse 9 A. 7446  "
      ]
     },
     "execution_count": 6,
     "metadata": {},
     "output_type": "execute_result"
    }
   ],
   "source": [
    "df.head()"
   ]
  },
  {
   "cell_type": "code",
   "execution_count": 7,
   "id": "5bd45393",
   "metadata": {},
   "outputs": [
    {
     "name": "stderr",
     "output_type": "stream",
     "text": [
      "/var/folders/d1/x4qm1hmx4sj6q61rdmcwx57m0000gn/T/ipykernel_5160/2210848250.py:39: FutureWarning: The default value of regex will change from True to False in a future version.\n",
      "  df[newColumnName] = df[newColumnName].str.replace('[^\\w\\s]','')\n",
      "/var/folders/d1/x4qm1hmx4sj6q61rdmcwx57m0000gn/T/ipykernel_5160/2210848250.py:41: FutureWarning: The default value of regex will change from True to False in a future version.\n",
      "  df[newColumnName] = df[newColumnName].str.replace(r'\\b\\w\\b', '').str.replace(r'\\s+', ' ')\n"
     ]
    }
   ],
   "source": [
    "df = preprocessing_custom(df, columnname, columnname+\"_nP\")\n",
    "df = tokenize(df, columnname+\"_nP\", columnname+\"_Tokens\")\n",
    "df = no_stopwords(df, columnname+\"_Tokens\", columnname+\"_nSW_Tokens\")\n",
    "df = detokenize(df, columnname+\"_nSW_Tokens\", columnname+\"_nSW\")"
   ]
  },
  {
   "cell_type": "code",
   "execution_count": 8,
   "id": "381bd464",
   "metadata": {},
   "outputs": [
    {
     "data": {
      "text/html": [
       "<div>\n",
       "<style scoped>\n",
       "    .dataframe tbody tr th:only-of-type {\n",
       "        vertical-align: middle;\n",
       "    }\n",
       "\n",
       "    .dataframe tbody tr th {\n",
       "        vertical-align: top;\n",
       "    }\n",
       "\n",
       "    .dataframe thead th {\n",
       "        text-align: right;\n",
       "    }\n",
       "</style>\n",
       "<table border=\"1\" class=\"dataframe\">\n",
       "  <thead>\n",
       "    <tr style=\"text-align: right;\">\n",
       "      <th></th>\n",
       "      <th>identifier</th>\n",
       "      <th>ground_truth_text</th>\n",
       "      <th>stellenbeschreibung</th>\n",
       "      <th>kommunikationsbeschreibung</th>\n",
       "      <th>stellenbeschreibung_nP</th>\n",
       "      <th>stellenbeschreibung_Tokens</th>\n",
       "      <th>stellenbeschreibung_nSW_Tokens</th>\n",
       "      <th>stellenbeschreibung_nSW</th>\n",
       "    </tr>\n",
       "  </thead>\n",
       "  <tbody>\n",
       "    <tr>\n",
       "      <th>0</th>\n",
       "      <td>aze_19111212_12_SEARCH_2</td>\n",
       "      <td>Kinderloses Ehepaar\\nsucht Hausbesorgerposten ...</td>\n",
       "      <td>Kinderloses Ehepaar\\nsucht Hausbesorgerposten \\n</td>\n",
       "      <td>im XVI. oder\\nXVII. Bezirk. Zuschriften unter ...</td>\n",
       "      <td>kinderloses ehepaar sucht hausbesorgerposten</td>\n",
       "      <td>[kinderloses, ehepaar, sucht, hausbesorgerposten]</td>\n",
       "      <td>[kinderloses, ehepaar, sucht, hausbesorgerposten]</td>\n",
       "      <td>kinderloses ehepaar sucht hausbesorgerposten</td>\n",
       "    </tr>\n",
       "    <tr>\n",
       "      <th>1</th>\n",
       "      <td>aze_19161029_17_OFFER_69</td>\n",
       "      <td>Bürstenmachergehilfen\\nBohrer, Drechsler, Einz...</td>\n",
       "      <td>Bürstenmachergehilfen\\nBohrer, Drechsler, Einz...</td>\n",
       "      <td>XIV.\\nReindorfgasse 35. 4852</td>\n",
       "      <td>bürstenmachergehilfen bohrer drechsler einzieh...</td>\n",
       "      <td>[bürstenmachergehilfen, bohrer, drechsler, ein...</td>\n",
       "      <td>[bürstenmachergehilfen, bohrer, drechsler, ein...</td>\n",
       "      <td>bürstenmachergehilfen bohrer drechsler einzieh...</td>\n",
       "    </tr>\n",
       "    <tr>\n",
       "      <th>2</th>\n",
       "      <td>aze_19161029_17_OFFER_57</td>\n",
       "      <td>Maschinnäherin\\nwelche sich auch zu anderen Ar...</td>\n",
       "      <td>Maschinnäherin\\nwelche sich auch zu anderen Ar...</td>\n",
       "      <td>II. Vereinsgasse 27. 349</td>\n",
       "      <td>maschinnäherin welche sich auch zu anderen arb...</td>\n",
       "      <td>[maschinnäherin, welche, sich, auch, zu, ander...</td>\n",
       "      <td>[maschinnäherin, welche, anderen, arbeiten, ve...</td>\n",
       "      <td>maschinnäherin welche anderen arbeiten verwend...</td>\n",
       "    </tr>\n",
       "    <tr>\n",
       "      <th>3</th>\n",
       "      <td>aze_19171111_11_OFFER_86</td>\n",
       "      <td>Fabriks-Buchhalterin\\nwird bei hohem Gehalt so...</td>\n",
       "      <td>Fabriks-Buchhalterin\\nwird bei hohem Gehalt so...</td>\n",
       "      <td>XII. Bez., Meidlinger Haupt-\\nstraße 32. 9848</td>\n",
       "      <td>fabriksbuchhalterin wird bei hohem gehalt sofo...</td>\n",
       "      <td>[fabriksbuchhalterin, wird, bei, hohem, gehalt...</td>\n",
       "      <td>[fabriksbuchhalterin, hohem, gehalt, sofort, a...</td>\n",
       "      <td>fabriksbuchhalterin hohem gehalt sofort aufgen...</td>\n",
       "    </tr>\n",
       "    <tr>\n",
       "      <th>4</th>\n",
       "      <td>aze_19180310_11_OFFER_11</td>\n",
       "      <td>Militärkappenmacher\\noder Kappennäherin werden...</td>\n",
       "      <td>Militärkappenmacher\\noder Kappennäherin werden...</td>\n",
       "      <td>VII.\\nKirchengasse 9 A. 7446</td>\n",
       "      <td>militärkappenmacher oder kappennäherin werden ...</td>\n",
       "      <td>[militärkappenmacher, oder, kappennäherin, wer...</td>\n",
       "      <td>[militärkappenmacher, kappennäherin, sofort, g...</td>\n",
       "      <td>militärkappenmacher kappennäherin sofort gesuc...</td>\n",
       "    </tr>\n",
       "  </tbody>\n",
       "</table>\n",
       "</div>"
      ],
      "text/plain": [
       "                 identifier  \\\n",
       "0  aze_19111212_12_SEARCH_2   \n",
       "1  aze_19161029_17_OFFER_69   \n",
       "2  aze_19161029_17_OFFER_57   \n",
       "3  aze_19171111_11_OFFER_86   \n",
       "4  aze_19180310_11_OFFER_11   \n",
       "\n",
       "                                   ground_truth_text  \\\n",
       "0  Kinderloses Ehepaar\\nsucht Hausbesorgerposten ...   \n",
       "1  Bürstenmachergehilfen\\nBohrer, Drechsler, Einz...   \n",
       "2  Maschinnäherin\\nwelche sich auch zu anderen Ar...   \n",
       "3  Fabriks-Buchhalterin\\nwird bei hohem Gehalt so...   \n",
       "4  Militärkappenmacher\\noder Kappennäherin werden...   \n",
       "\n",
       "                                 stellenbeschreibung  \\\n",
       "0   Kinderloses Ehepaar\\nsucht Hausbesorgerposten \\n   \n",
       "1  Bürstenmachergehilfen\\nBohrer, Drechsler, Einz...   \n",
       "2  Maschinnäherin\\nwelche sich auch zu anderen Ar...   \n",
       "3  Fabriks-Buchhalterin\\nwird bei hohem Gehalt so...   \n",
       "4  Militärkappenmacher\\noder Kappennäherin werden...   \n",
       "\n",
       "                          kommunikationsbeschreibung  \\\n",
       "0  im XVI. oder\\nXVII. Bezirk. Zuschriften unter ...   \n",
       "1                       XIV.\\nReindorfgasse 35. 4852   \n",
       "2                           II. Vereinsgasse 27. 349   \n",
       "3      XII. Bez., Meidlinger Haupt-\\nstraße 32. 9848   \n",
       "4                       VII.\\nKirchengasse 9 A. 7446   \n",
       "\n",
       "                              stellenbeschreibung_nP  \\\n",
       "0      kinderloses ehepaar sucht hausbesorgerposten    \n",
       "1  bürstenmachergehilfen bohrer drechsler einzieh...   \n",
       "2  maschinnäherin welche sich auch zu anderen arb...   \n",
       "3  fabriksbuchhalterin wird bei hohem gehalt sofo...   \n",
       "4  militärkappenmacher oder kappennäherin werden ...   \n",
       "\n",
       "                          stellenbeschreibung_Tokens  \\\n",
       "0  [kinderloses, ehepaar, sucht, hausbesorgerposten]   \n",
       "1  [bürstenmachergehilfen, bohrer, drechsler, ein...   \n",
       "2  [maschinnäherin, welche, sich, auch, zu, ander...   \n",
       "3  [fabriksbuchhalterin, wird, bei, hohem, gehalt...   \n",
       "4  [militärkappenmacher, oder, kappennäherin, wer...   \n",
       "\n",
       "                      stellenbeschreibung_nSW_Tokens  \\\n",
       "0  [kinderloses, ehepaar, sucht, hausbesorgerposten]   \n",
       "1  [bürstenmachergehilfen, bohrer, drechsler, ein...   \n",
       "2  [maschinnäherin, welche, anderen, arbeiten, ve...   \n",
       "3  [fabriksbuchhalterin, hohem, gehalt, sofort, a...   \n",
       "4  [militärkappenmacher, kappennäherin, sofort, g...   \n",
       "\n",
       "                             stellenbeschreibung_nSW  \n",
       "0       kinderloses ehepaar sucht hausbesorgerposten  \n",
       "1  bürstenmachergehilfen bohrer drechsler einzieh...  \n",
       "2  maschinnäherin welche anderen arbeiten verwend...  \n",
       "3  fabriksbuchhalterin hohem gehalt sofort aufgen...  \n",
       "4  militärkappenmacher kappennäherin sofort gesuc...  "
      ]
     },
     "execution_count": 8,
     "metadata": {},
     "output_type": "execute_result"
    }
   ],
   "source": [
    "df.head()"
   ]
  },
  {
   "cell_type": "markdown",
   "id": "7ef8cd2d",
   "metadata": {},
   "source": [
    "#### Kommunikationsbeschreibung"
   ]
  },
  {
   "cell_type": "code",
   "execution_count": 9,
   "id": "9d4508e1",
   "metadata": {},
   "outputs": [],
   "source": [
    "\n",
    "columnname = \"kommunikationsbeschreibung\""
   ]
  },
  {
   "cell_type": "code",
   "execution_count": 10,
   "id": "34827864",
   "metadata": {},
   "outputs": [
    {
     "name": "stderr",
     "output_type": "stream",
     "text": [
      "/var/folders/d1/x4qm1hmx4sj6q61rdmcwx57m0000gn/T/ipykernel_5160/2210848250.py:39: FutureWarning: The default value of regex will change from True to False in a future version.\n",
      "  df[newColumnName] = df[newColumnName].str.replace('[^\\w\\s]','')\n",
      "/var/folders/d1/x4qm1hmx4sj6q61rdmcwx57m0000gn/T/ipykernel_5160/2210848250.py:41: FutureWarning: The default value of regex will change from True to False in a future version.\n",
      "  df[newColumnName] = df[newColumnName].str.replace(r'\\b\\w\\b', '').str.replace(r'\\s+', ' ')\n"
     ]
    }
   ],
   "source": [
    "df = preprocessing_custom(df, columnname, columnname+\"_nP\")\n",
    "df = tokenize(df, columnname+\"_nP\", columnname+\"_Tokens\")\n",
    "df = no_stopwords(df, columnname+\"_Tokens\", columnname+\"_nSW_Tokens\")\n",
    "df = detokenize(df, columnname+\"_nSW_Tokens\", columnname+\"_nSW\")"
   ]
  },
  {
   "cell_type": "code",
   "execution_count": 11,
   "id": "c0891629",
   "metadata": {},
   "outputs": [
    {
     "data": {
      "text/html": [
       "<div>\n",
       "<style scoped>\n",
       "    .dataframe tbody tr th:only-of-type {\n",
       "        vertical-align: middle;\n",
       "    }\n",
       "\n",
       "    .dataframe tbody tr th {\n",
       "        vertical-align: top;\n",
       "    }\n",
       "\n",
       "    .dataframe thead th {\n",
       "        text-align: right;\n",
       "    }\n",
       "</style>\n",
       "<table border=\"1\" class=\"dataframe\">\n",
       "  <thead>\n",
       "    <tr style=\"text-align: right;\">\n",
       "      <th></th>\n",
       "      <th>identifier</th>\n",
       "      <th>ground_truth_text</th>\n",
       "      <th>stellenbeschreibung</th>\n",
       "      <th>kommunikationsbeschreibung</th>\n",
       "      <th>stellenbeschreibung_nP</th>\n",
       "      <th>stellenbeschreibung_Tokens</th>\n",
       "      <th>stellenbeschreibung_nSW_Tokens</th>\n",
       "      <th>stellenbeschreibung_nSW</th>\n",
       "      <th>kommunikationsbeschreibung_nP</th>\n",
       "      <th>kommunikationsbeschreibung_Tokens</th>\n",
       "      <th>kommunikationsbeschreibung_nSW_Tokens</th>\n",
       "      <th>kommunikationsbeschreibung_nSW</th>\n",
       "    </tr>\n",
       "  </thead>\n",
       "  <tbody>\n",
       "    <tr>\n",
       "      <th>0</th>\n",
       "      <td>aze_19111212_12_SEARCH_2</td>\n",
       "      <td>Kinderloses Ehepaar\\nsucht Hausbesorgerposten ...</td>\n",
       "      <td>Kinderloses Ehepaar\\nsucht Hausbesorgerposten \\n</td>\n",
       "      <td>im XVI. oder\\nXVII. Bezirk. Zuschriften unter ...</td>\n",
       "      <td>kinderloses ehepaar sucht hausbesorgerposten</td>\n",
       "      <td>[kinderloses, ehepaar, sucht, hausbesorgerposten]</td>\n",
       "      <td>[kinderloses, ehepaar, sucht, hausbesorgerposten]</td>\n",
       "      <td>kinderloses ehepaar sucht hausbesorgerposten</td>\n",
       "      <td>im xvi oder xvii bezirk zuschriften unter post...</td>\n",
       "      <td>[im, xvi, oder, xvii, bezirk, zuschriften, unt...</td>\n",
       "      <td>[xvi, xvii, bezirk, zuschriften, postlagernd, ...</td>\n",
       "      <td>xvi xvii bezirk zuschriften postlagernd xvi th...</td>\n",
       "    </tr>\n",
       "    <tr>\n",
       "      <th>1</th>\n",
       "      <td>aze_19161029_17_OFFER_69</td>\n",
       "      <td>Bürstenmachergehilfen\\nBohrer, Drechsler, Einz...</td>\n",
       "      <td>Bürstenmachergehilfen\\nBohrer, Drechsler, Einz...</td>\n",
       "      <td>XIV.\\nReindorfgasse 35. 4852</td>\n",
       "      <td>bürstenmachergehilfen bohrer drechsler einzieh...</td>\n",
       "      <td>[bürstenmachergehilfen, bohrer, drechsler, ein...</td>\n",
       "      <td>[bürstenmachergehilfen, bohrer, drechsler, ein...</td>\n",
       "      <td>bürstenmachergehilfen bohrer drechsler einzieh...</td>\n",
       "      <td>xiv reindorfgasse 35 4852</td>\n",
       "      <td>[xiv, reindorfgasse, 35, 4852]</td>\n",
       "      <td>[xiv, reindorfgasse, 35, 4852]</td>\n",
       "      <td>xiv reindorfgasse 35 4852</td>\n",
       "    </tr>\n",
       "    <tr>\n",
       "      <th>2</th>\n",
       "      <td>aze_19161029_17_OFFER_57</td>\n",
       "      <td>Maschinnäherin\\nwelche sich auch zu anderen Ar...</td>\n",
       "      <td>Maschinnäherin\\nwelche sich auch zu anderen Ar...</td>\n",
       "      <td>II. Vereinsgasse 27. 349</td>\n",
       "      <td>maschinnäherin welche sich auch zu anderen arb...</td>\n",
       "      <td>[maschinnäherin, welche, sich, auch, zu, ander...</td>\n",
       "      <td>[maschinnäherin, welche, anderen, arbeiten, ve...</td>\n",
       "      <td>maschinnäherin welche anderen arbeiten verwend...</td>\n",
       "      <td>ii vereinsgasse 27 349</td>\n",
       "      <td>[ii, vereinsgasse, 27, 349]</td>\n",
       "      <td>[ii, vereinsgasse, 27, 349]</td>\n",
       "      <td>ii vereinsgasse 27 349</td>\n",
       "    </tr>\n",
       "    <tr>\n",
       "      <th>3</th>\n",
       "      <td>aze_19171111_11_OFFER_86</td>\n",
       "      <td>Fabriks-Buchhalterin\\nwird bei hohem Gehalt so...</td>\n",
       "      <td>Fabriks-Buchhalterin\\nwird bei hohem Gehalt so...</td>\n",
       "      <td>XII. Bez., Meidlinger Haupt-\\nstraße 32. 9848</td>\n",
       "      <td>fabriksbuchhalterin wird bei hohem gehalt sofo...</td>\n",
       "      <td>[fabriksbuchhalterin, wird, bei, hohem, gehalt...</td>\n",
       "      <td>[fabriksbuchhalterin, hohem, gehalt, sofort, a...</td>\n",
       "      <td>fabriksbuchhalterin hohem gehalt sofort aufgen...</td>\n",
       "      <td>xii bez meidlinger hauptstraße 32 9848</td>\n",
       "      <td>[xii, bez, meidlinger, hauptstraße, 32, 9848]</td>\n",
       "      <td>[xii, meidlinger, hauptstraße, 32, 9848]</td>\n",
       "      <td>xii meidlinger hauptstraße 32 9848</td>\n",
       "    </tr>\n",
       "    <tr>\n",
       "      <th>4</th>\n",
       "      <td>aze_19180310_11_OFFER_11</td>\n",
       "      <td>Militärkappenmacher\\noder Kappennäherin werden...</td>\n",
       "      <td>Militärkappenmacher\\noder Kappennäherin werden...</td>\n",
       "      <td>VII.\\nKirchengasse 9 A. 7446</td>\n",
       "      <td>militärkappenmacher oder kappennäherin werden ...</td>\n",
       "      <td>[militärkappenmacher, oder, kappennäherin, wer...</td>\n",
       "      <td>[militärkappenmacher, kappennäherin, sofort, g...</td>\n",
       "      <td>militärkappenmacher kappennäherin sofort gesuc...</td>\n",
       "      <td>vii kirchengasse 7446</td>\n",
       "      <td>[vii, kirchengasse, 7446]</td>\n",
       "      <td>[vii, kirchengasse, 7446]</td>\n",
       "      <td>vii kirchengasse 7446</td>\n",
       "    </tr>\n",
       "  </tbody>\n",
       "</table>\n",
       "</div>"
      ],
      "text/plain": [
       "                 identifier  \\\n",
       "0  aze_19111212_12_SEARCH_2   \n",
       "1  aze_19161029_17_OFFER_69   \n",
       "2  aze_19161029_17_OFFER_57   \n",
       "3  aze_19171111_11_OFFER_86   \n",
       "4  aze_19180310_11_OFFER_11   \n",
       "\n",
       "                                   ground_truth_text  \\\n",
       "0  Kinderloses Ehepaar\\nsucht Hausbesorgerposten ...   \n",
       "1  Bürstenmachergehilfen\\nBohrer, Drechsler, Einz...   \n",
       "2  Maschinnäherin\\nwelche sich auch zu anderen Ar...   \n",
       "3  Fabriks-Buchhalterin\\nwird bei hohem Gehalt so...   \n",
       "4  Militärkappenmacher\\noder Kappennäherin werden...   \n",
       "\n",
       "                                 stellenbeschreibung  \\\n",
       "0   Kinderloses Ehepaar\\nsucht Hausbesorgerposten \\n   \n",
       "1  Bürstenmachergehilfen\\nBohrer, Drechsler, Einz...   \n",
       "2  Maschinnäherin\\nwelche sich auch zu anderen Ar...   \n",
       "3  Fabriks-Buchhalterin\\nwird bei hohem Gehalt so...   \n",
       "4  Militärkappenmacher\\noder Kappennäherin werden...   \n",
       "\n",
       "                          kommunikationsbeschreibung  \\\n",
       "0  im XVI. oder\\nXVII. Bezirk. Zuschriften unter ...   \n",
       "1                       XIV.\\nReindorfgasse 35. 4852   \n",
       "2                           II. Vereinsgasse 27. 349   \n",
       "3      XII. Bez., Meidlinger Haupt-\\nstraße 32. 9848   \n",
       "4                       VII.\\nKirchengasse 9 A. 7446   \n",
       "\n",
       "                              stellenbeschreibung_nP  \\\n",
       "0      kinderloses ehepaar sucht hausbesorgerposten    \n",
       "1  bürstenmachergehilfen bohrer drechsler einzieh...   \n",
       "2  maschinnäherin welche sich auch zu anderen arb...   \n",
       "3  fabriksbuchhalterin wird bei hohem gehalt sofo...   \n",
       "4  militärkappenmacher oder kappennäherin werden ...   \n",
       "\n",
       "                          stellenbeschreibung_Tokens  \\\n",
       "0  [kinderloses, ehepaar, sucht, hausbesorgerposten]   \n",
       "1  [bürstenmachergehilfen, bohrer, drechsler, ein...   \n",
       "2  [maschinnäherin, welche, sich, auch, zu, ander...   \n",
       "3  [fabriksbuchhalterin, wird, bei, hohem, gehalt...   \n",
       "4  [militärkappenmacher, oder, kappennäherin, wer...   \n",
       "\n",
       "                      stellenbeschreibung_nSW_Tokens  \\\n",
       "0  [kinderloses, ehepaar, sucht, hausbesorgerposten]   \n",
       "1  [bürstenmachergehilfen, bohrer, drechsler, ein...   \n",
       "2  [maschinnäherin, welche, anderen, arbeiten, ve...   \n",
       "3  [fabriksbuchhalterin, hohem, gehalt, sofort, a...   \n",
       "4  [militärkappenmacher, kappennäherin, sofort, g...   \n",
       "\n",
       "                             stellenbeschreibung_nSW  \\\n",
       "0       kinderloses ehepaar sucht hausbesorgerposten   \n",
       "1  bürstenmachergehilfen bohrer drechsler einzieh...   \n",
       "2  maschinnäherin welche anderen arbeiten verwend...   \n",
       "3  fabriksbuchhalterin hohem gehalt sofort aufgen...   \n",
       "4  militärkappenmacher kappennäherin sofort gesuc...   \n",
       "\n",
       "                       kommunikationsbeschreibung_nP  \\\n",
       "0  im xvi oder xvii bezirk zuschriften unter post...   \n",
       "1                          xiv reindorfgasse 35 4852   \n",
       "2                             ii vereinsgasse 27 349   \n",
       "3             xii bez meidlinger hauptstraße 32 9848   \n",
       "4                              vii kirchengasse 7446   \n",
       "\n",
       "                   kommunikationsbeschreibung_Tokens  \\\n",
       "0  [im, xvi, oder, xvii, bezirk, zuschriften, unt...   \n",
       "1                     [xiv, reindorfgasse, 35, 4852]   \n",
       "2                        [ii, vereinsgasse, 27, 349]   \n",
       "3      [xii, bez, meidlinger, hauptstraße, 32, 9848]   \n",
       "4                          [vii, kirchengasse, 7446]   \n",
       "\n",
       "               kommunikationsbeschreibung_nSW_Tokens  \\\n",
       "0  [xvi, xvii, bezirk, zuschriften, postlagernd, ...   \n",
       "1                     [xiv, reindorfgasse, 35, 4852]   \n",
       "2                        [ii, vereinsgasse, 27, 349]   \n",
       "3           [xii, meidlinger, hauptstraße, 32, 9848]   \n",
       "4                          [vii, kirchengasse, 7446]   \n",
       "\n",
       "                      kommunikationsbeschreibung_nSW  \n",
       "0  xvi xvii bezirk zuschriften postlagernd xvi th...  \n",
       "1                          xiv reindorfgasse 35 4852  \n",
       "2                             ii vereinsgasse 27 349  \n",
       "3                 xii meidlinger hauptstraße 32 9848  \n",
       "4                              vii kirchengasse 7446  "
      ]
     },
     "execution_count": 11,
     "metadata": {},
     "output_type": "execute_result"
    }
   ],
   "source": [
    "df.head()"
   ]
  },
  {
   "cell_type": "markdown",
   "id": "c7059f43",
   "metadata": {},
   "source": [
    "## 4. Daten Export für Voyant Tools"
   ]
  },
  {
   "cell_type": "code",
   "execution_count": 12,
   "id": "41a51ff0",
   "metadata": {},
   "outputs": [],
   "source": [
    "# export all stellenbeschreibungen without stopwords as txt file\n",
    "with open('../output/4.3_annotiertesKorpus_n-grams/stellenbeschreibung_nSW.txt', 'w', encoding = 'utf-8') as f:\n",
    "    for rec_index, rec in df.iterrows():\n",
    "        f.write(rec['stellenbeschreibung_nSW'] + '\\n')\n",
    "# export all kommunikationsbeschreibungen without stopwords as txt file\n",
    "with open('../output/4.3_annotiertesKorpus_n-grams/kommunikationsbeschreibung_nSW.txt', 'w', encoding = 'utf-8') as f:\n",
    "    for rec_index, rec in df.iterrows():\n",
    "        f.write(rec['kommunikationsbeschreibung_nSW'] + '\\n')"
   ]
  },
  {
   "cell_type": "markdown",
   "id": "863d71b2",
   "metadata": {},
   "source": [
    "## N-Gram Analyse"
   ]
  },
  {
   "cell_type": "markdown",
   "id": "ee2768e9",
   "metadata": {},
   "source": [
    "### Stellenbeschreibungen"
   ]
  },
  {
   "cell_type": "code",
   "execution_count": 13,
   "id": "6b915cbe",
   "metadata": {},
   "outputs": [
    {
     "data": {
      "image/png": "[encoded data removed]",
      "text/plain": [
       "<Figure size 720x864 with 1 Axes>"
      ]
     },
     "metadata": {
      "needs_background": "light"
     },
     "output_type": "display_data"
    }
   ],
   "source": [
    "plot_top_ngrams_barchart(df[\"stellenbeschreibung_nSW\"], 2, \"Top Bigrams in der Stellenbeschreibung ohne Stopwörter\")"
   ]
  },
  {
   "cell_type": "code",
   "execution_count": 14,
   "id": "2ad94e62",
   "metadata": {},
   "outputs": [
    {
     "data": {
      "image/png": "[encoded data removed]",
      "text/plain": [
       "<Figure size 720x864 with 1 Axes>"
      ]
     },
     "metadata": {
      "needs_background": "light"
     },
     "output_type": "display_data"
    }
   ],
   "source": [
    "plot_top_ngrams_barchart(df[\"stellenbeschreibung_nSW\"], 3, \"Top Trigrams in der Stellenbeschreibung ohne Stopwörter\")"
   ]
  },
  {
   "cell_type": "markdown",
   "id": "2eef8aa1",
   "metadata": {},
   "source": [
    "### Kommunikationsbeschreibungen"
   ]
  },
  {
   "cell_type": "code",
   "execution_count": 15,
   "id": "3ff880a9",
   "metadata": {},
   "outputs": [
    {
     "data": {
      "image/png": "[encoded data removed]",
      "text/plain": [
       "<Figure size 720x864 with 1 Axes>"
      ]
     },
     "metadata": {
      "needs_background": "light"
     },
     "output_type": "display_data"
    }
   ],
   "source": [
    "plot_top_ngrams_barchart(df[\"kommunikationsbeschreibung_nSW\"], 2, \"Top Bigrams in der Kommunikationsbeschreibung ohne Stopwörter\")"
   ]
  },
  {
   "cell_type": "code",
   "execution_count": 16,
   "id": "2957e1bb",
   "metadata": {},
   "outputs": [
    {
     "data": {
      "image/png": "[encoded data removed]",
      "text/plain": [
       "<Figure size 720x864 with 1 Axes>"
      ]
     },
     "metadata": {
      "needs_background": "light"
     },
     "output_type": "display_data"
    }
   ],
   "source": [
    "plot_top_ngrams_barchart(df[\"kommunikationsbeschreibung_nSW\"], 3, \"Top Trigrams in der Kommunikationsbeschreibung ohne Stopwörter\")"
   ]
  },
  {
   "cell_type": "code",
   "execution_count": null,
   "id": "f715da1d",
   "metadata": {},
   "outputs": [],
   "source": []
  },
  {
   "cell_type": "code",
   "execution_count": null,
   "id": "e21ef087",
   "metadata": {},
   "outputs": [],
   "source": []
  }
 ],
 "metadata": {
  "kernelspec": {
   "display_name": "Python 3 (ipykernel)",
   "language": "python",
   "name": "python3"
  },
  "language_info": {
   "codemirror_mode": {
    "name": "ipython",
    "version": 3
   },
   "file_extension": ".py",
   "mimetype": "text/x-python",
   "name": "python",
   "nbconvert_exporter": "python",
   "pygments_lexer": "ipython3",
   "version": "3.9.7"
  }
 },
 "nbformat": 4,
 "nbformat_minor": 5
}
