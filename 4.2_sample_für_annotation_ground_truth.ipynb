{
 "cells": [
  {
   "cell_type": "markdown",
   "id": "2d9423a4",
   "metadata": {},
   "source": [
    "# 4.2\tManuelle Annotation einer Stichprobe des Goldstandard-Korpus"
   ]
  },
  {
   "cell_type": "markdown",
   "id": "ef2b8906",
   "metadata": {},
   "source": [
    "## 1. Bibliotheken"
   ]
  },
  {
   "cell_type": "code",
   "execution_count": 1,
   "id": "20a220d2",
   "metadata": {},
   "outputs": [],
   "source": [
    "import pandas as pd"
   ]
  },
  {
   "cell_type": "markdown",
   "id": "f91c0c7f",
   "metadata": {},
   "source": [
    "## 2. Datenimport (Goldstandard ohne Normalisierung)"
   ]
  },
  {
   "cell_type": "markdown",
   "id": "e477dbc7",
   "metadata": {},
   "source": [
    "Die Stellenanzeigen sollen aufgrund von Pattern annotiert werden. In vergangenen Notebooks wurden bereis inhaltliche Analysen vollzogen. Aus diesem Grund wurden die Texte normalisiert. Die Normalisierungen könnten dazu führen, dass bestimmte Pattern verloren gehen. Aus diesem Grund wird ein unnormalisierter Transkribus Datensatz verwendet. "
   ]
  },
  {
   "cell_type": "code",
   "execution_count": 2,
   "id": "62e2c7b9",
   "metadata": {},
   "outputs": [],
   "source": [
    "df_master = pd.read_csv('../output/3.2_korpus_analysen_ground_truth/ground_truth.csv')\n",
    "#sample = df_master.sample(n=300)"
   ]
  },
  {
   "cell_type": "code",
   "execution_count": 3,
   "id": "f45a0298",
   "metadata": {},
   "outputs": [],
   "source": [
    "#export dataframe and excel\n",
    "\n",
    "#sample.to_csv('../output/5.2_sample_für_annotation_ground_truth/ground_truth_sample.csv', encoding='utf-8', sep = \",\", index=False)\n",
    "\n",
    "#sample_excel = sample[[\"identifier\", \"ground_truth_text\"]]\n",
    "#sample_excel.to_excel(\"../output/5.2_sample_für_annotation_ground_truth/ground_truth_sample.xlsx\")\n"
   ]
  },
  {
   "cell_type": "code",
   "execution_count": 5,
   "id": "d6e7cc42",
   "metadata": {},
   "outputs": [
    {
     "data": {
      "text/plain": [
       "300"
      ]
     },
     "execution_count": 5,
     "metadata": {},
     "output_type": "execute_result"
    }
   ],
   "source": [
    "sample = pd.read_csv('../output/4.2_sample_für_annotation_ground_truth/ground_truth_sample.csv')\n",
    "\n",
    "len(sample)"
   ]
  },
  {
   "cell_type": "code",
   "execution_count": 6,
   "id": "7d513b78",
   "metadata": {},
   "outputs": [
    {
     "data": {
      "text/html": [
       "<div>\n",
       "<style scoped>\n",
       "    .dataframe tbody tr th:only-of-type {\n",
       "        vertical-align: middle;\n",
       "    }\n",
       "\n",
       "    .dataframe tbody tr th {\n",
       "        vertical-align: top;\n",
       "    }\n",
       "\n",
       "    .dataframe thead th {\n",
       "        text-align: right;\n",
       "    }\n",
       "</style>\n",
       "<table border=\"1\" class=\"dataframe\">\n",
       "  <thead>\n",
       "    <tr style=\"text-align: right;\">\n",
       "      <th></th>\n",
       "      <th>identifier</th>\n",
       "      <th>ground_truth_text</th>\n",
       "      <th>date</th>\n",
       "      <th>region_class</th>\n",
       "      <th>pub_id</th>\n",
       "      <th>pub_name</th>\n",
       "    </tr>\n",
       "  </thead>\n",
       "  <tbody>\n",
       "    <tr>\n",
       "      <th>0</th>\n",
       "      <td>aze_19171111_11_OFFER_78</td>\n",
       "      <td>Kartonnagenarbeiterinnen\\nwerden gegen hohen L...</td>\n",
       "      <td>1917</td>\n",
       "      <td>OFFER</td>\n",
       "      <td>aze</td>\n",
       "      <td>Arbeiter-Zeitung</td>\n",
       "    </tr>\n",
       "    <tr>\n",
       "      <th>1</th>\n",
       "      <td>aze_19171111_11_OFFER_44</td>\n",
       "      <td>Maschinnäherinnen\\nfinden dauernde Beschäftigu...</td>\n",
       "      <td>1917</td>\n",
       "      <td>OFFER</td>\n",
       "      <td>aze</td>\n",
       "      <td>Arbeiter-Zeitung</td>\n",
       "    </tr>\n",
       "    <tr>\n",
       "      <th>2</th>\n",
       "      <td>aze_19141018_16_OFFER_23</td>\n",
       "      <td>Kunststopfer\\nSchneider, tüchtig, findet lohne...</td>\n",
       "      <td>1914</td>\n",
       "      <td>OFFER</td>\n",
       "      <td>aze</td>\n",
       "      <td>Arbeiter-Zeitung</td>\n",
       "    </tr>\n",
       "    <tr>\n",
       "      <th>3</th>\n",
       "      <td>aze_19161203_19_OFFER_36</td>\n",
       "      <td>Werkzeugschlosser\\nund Werkzeugdreher für selb...</td>\n",
       "      <td>1916</td>\n",
       "      <td>OFFER</td>\n",
       "      <td>aze</td>\n",
       "      <td>Arbeiter-Zeitung</td>\n",
       "    </tr>\n",
       "    <tr>\n",
       "      <th>4</th>\n",
       "      <td>aze_19171111_11_OFFER_87</td>\n",
       "      <td>Monteur 9818\\nfür Gas- und Wasserleitung wird ...</td>\n",
       "      <td>1917</td>\n",
       "      <td>OFFER</td>\n",
       "      <td>aze</td>\n",
       "      <td>Arbeiter-Zeitung</td>\n",
       "    </tr>\n",
       "  </tbody>\n",
       "</table>\n",
       "</div>"
      ],
      "text/plain": [
       "                 identifier  \\\n",
       "0  aze_19171111_11_OFFER_78   \n",
       "1  aze_19171111_11_OFFER_44   \n",
       "2  aze_19141018_16_OFFER_23   \n",
       "3  aze_19161203_19_OFFER_36   \n",
       "4  aze_19171111_11_OFFER_87   \n",
       "\n",
       "                                   ground_truth_text  date region_class  \\\n",
       "0  Kartonnagenarbeiterinnen\\nwerden gegen hohen L...  1917        OFFER   \n",
       "1  Maschinnäherinnen\\nfinden dauernde Beschäftigu...  1917        OFFER   \n",
       "2  Kunststopfer\\nSchneider, tüchtig, findet lohne...  1914        OFFER   \n",
       "3  Werkzeugschlosser\\nund Werkzeugdreher für selb...  1916        OFFER   \n",
       "4  Monteur 9818\\nfür Gas- und Wasserleitung wird ...  1917        OFFER   \n",
       "\n",
       "  pub_id          pub_name  \n",
       "0    aze  Arbeiter-Zeitung  \n",
       "1    aze  Arbeiter-Zeitung  \n",
       "2    aze  Arbeiter-Zeitung  \n",
       "3    aze  Arbeiter-Zeitung  \n",
       "4    aze  Arbeiter-Zeitung  "
      ]
     },
     "execution_count": 6,
     "metadata": {},
     "output_type": "execute_result"
    }
   ],
   "source": [
    "sample.head()"
   ]
  },
  {
   "cell_type": "markdown",
   "id": "afc87bfe",
   "metadata": {},
   "source": [
    "## 3. Repräsentationscheck"
   ]
  },
  {
   "cell_type": "markdown",
   "id": "5d3ffc15",
   "metadata": {},
   "source": [
    "### 3.1. Kurze Analyse des Goldstandard Dataframe"
   ]
  },
  {
   "cell_type": "code",
   "execution_count": 7,
   "id": "10df28c0",
   "metadata": {},
   "outputs": [
    {
     "data": {
      "text/plain": [
       "<AxesSubplot:>"
      ]
     },
     "execution_count": 7,
     "metadata": {},
     "output_type": "execute_result"
    },
    {
     "data": {
      "image/png": "[encoded data removed]",
      "text/plain": [
       "<Figure size 432x288 with 1 Axes>"
      ]
     },
     "metadata": {
      "needs_background": "light"
     },
     "output_type": "display_data"
    }
   ],
   "source": [
    "df_region_class = df_master[\"region_class\"]\n",
    "df_region_class.value_counts().sort_index().plot(kind='bar')"
   ]
  },
  {
   "cell_type": "code",
   "execution_count": 8,
   "id": "952950d8",
   "metadata": {},
   "outputs": [
    {
     "data": {
      "text/plain": [
       "<AxesSubplot:>"
      ]
     },
     "execution_count": 8,
     "metadata": {},
     "output_type": "execute_result"
    },
    {
     "data": {
      "image/png": "[encoded data removed]",
      "text/plain": [
       "<Figure size 432x288 with 1 Axes>"
      ]
     },
     "metadata": {
      "needs_background": "light"
     },
     "output_type": "display_data"
    }
   ],
   "source": [
    "df_date = df_master[\"date\"]\n",
    "df_date.value_counts().sort_index().plot(kind='bar')"
   ]
  },
  {
   "cell_type": "code",
   "execution_count": 9,
   "id": "27d75cc8",
   "metadata": {},
   "outputs": [
    {
     "data": {
      "text/plain": [
       "<AxesSubplot:>"
      ]
     },
     "execution_count": 9,
     "metadata": {},
     "output_type": "execute_result"
    },
    {
     "data": {
      "image/png": "[encoded data removed]",
      "text/plain": [
       "<Figure size 432x288 with 1 Axes>"
      ]
     },
     "metadata": {
      "needs_background": "light"
     },
     "output_type": "display_data"
    }
   ],
   "source": [
    "df_pub = df_master[\"pub_id\"]\n",
    "df_pub.value_counts().sort_index().plot(kind='bar')"
   ]
  },
  {
   "cell_type": "markdown",
   "id": "6d927c3f",
   "metadata": {},
   "source": [
    "### 3.2. Kurze Analyse der Stichprobe"
   ]
  },
  {
   "cell_type": "code",
   "execution_count": 10,
   "id": "2f384815",
   "metadata": {},
   "outputs": [
    {
     "data": {
      "text/plain": [
       "<AxesSubplot:>"
      ]
     },
     "execution_count": 10,
     "metadata": {},
     "output_type": "execute_result"
    },
    {
     "data": {
      "image/png": "[encoded data removed]",
      "text/plain": [
       "<Figure size 432x288 with 1 Axes>"
      ]
     },
     "metadata": {
      "needs_background": "light"
     },
     "output_type": "display_data"
    }
   ],
   "source": [
    "sample_type = sample[\"region_class\"]\n",
    "sample_type.value_counts().sort_index().plot(kind='bar')"
   ]
  },
  {
   "cell_type": "code",
   "execution_count": 11,
   "id": "a8c6b065",
   "metadata": {},
   "outputs": [
    {
     "data": {
      "text/plain": [
       "<AxesSubplot:>"
      ]
     },
     "execution_count": 11,
     "metadata": {},
     "output_type": "execute_result"
    },
    {
     "data": {
      "image/png": "[encoded data removed]",
      "text/plain": [
       "<Figure size 432x288 with 1 Axes>"
      ]
     },
     "metadata": {
      "needs_background": "light"
     },
     "output_type": "display_data"
    }
   ],
   "source": [
    "sample_date = sample[\"date\"]\n",
    "sample_date.value_counts().sort_index().plot(kind='bar')"
   ]
  },
  {
   "cell_type": "code",
   "execution_count": 12,
   "id": "c92f04c5",
   "metadata": {},
   "outputs": [
    {
     "data": {
      "text/plain": [
       "<AxesSubplot:>"
      ]
     },
     "execution_count": 12,
     "metadata": {},
     "output_type": "execute_result"
    },
    {
     "data": {
      "image/png": "[encoded data removed]",
      "text/plain": [
       "<Figure size 432x288 with 1 Axes>"
      ]
     },
     "metadata": {
      "needs_background": "light"
     },
     "output_type": "display_data"
    }
   ],
   "source": [
    "sample_pub = sample[\"pub_id\"]\n",
    "sample_pub.value_counts().sort_index().plot(kind='bar')"
   ]
  },
  {
   "cell_type": "code",
   "execution_count": 13,
   "id": "f57da402",
   "metadata": {},
   "outputs": [
    {
     "data": {
      "text/html": [
       "<div>\n",
       "<style scoped>\n",
       "    .dataframe tbody tr th:only-of-type {\n",
       "        vertical-align: middle;\n",
       "    }\n",
       "\n",
       "    .dataframe tbody tr th {\n",
       "        vertical-align: top;\n",
       "    }\n",
       "\n",
       "    .dataframe thead th {\n",
       "        text-align: right;\n",
       "    }\n",
       "</style>\n",
       "<table border=\"1\" class=\"dataframe\">\n",
       "  <thead>\n",
       "    <tr style=\"text-align: right;\">\n",
       "      <th></th>\n",
       "      <th>identifier</th>\n",
       "      <th>ground_truth_text</th>\n",
       "      <th>date</th>\n",
       "      <th>region_class</th>\n",
       "      <th>pub_id</th>\n",
       "      <th>pub_name</th>\n",
       "    </tr>\n",
       "  </thead>\n",
       "  <tbody>\n",
       "    <tr>\n",
       "      <th>0</th>\n",
       "      <td>aze_19171111_11_OFFER_78</td>\n",
       "      <td>Kartonnagenarbeiterinnen\\nwerden gegen hohen L...</td>\n",
       "      <td>1917</td>\n",
       "      <td>OFFER</td>\n",
       "      <td>aze</td>\n",
       "      <td>Arbeiter-Zeitung</td>\n",
       "    </tr>\n",
       "    <tr>\n",
       "      <th>1</th>\n",
       "      <td>aze_19171111_11_OFFER_44</td>\n",
       "      <td>Maschinnäherinnen\\nfinden dauernde Beschäftigu...</td>\n",
       "      <td>1917</td>\n",
       "      <td>OFFER</td>\n",
       "      <td>aze</td>\n",
       "      <td>Arbeiter-Zeitung</td>\n",
       "    </tr>\n",
       "    <tr>\n",
       "      <th>2</th>\n",
       "      <td>aze_19141018_16_OFFER_23</td>\n",
       "      <td>Kunststopfer\\nSchneider, tüchtig, findet lohne...</td>\n",
       "      <td>1914</td>\n",
       "      <td>OFFER</td>\n",
       "      <td>aze</td>\n",
       "      <td>Arbeiter-Zeitung</td>\n",
       "    </tr>\n",
       "    <tr>\n",
       "      <th>3</th>\n",
       "      <td>aze_19161203_19_OFFER_36</td>\n",
       "      <td>Werkzeugschlosser\\nund Werkzeugdreher für selb...</td>\n",
       "      <td>1916</td>\n",
       "      <td>OFFER</td>\n",
       "      <td>aze</td>\n",
       "      <td>Arbeiter-Zeitung</td>\n",
       "    </tr>\n",
       "    <tr>\n",
       "      <th>4</th>\n",
       "      <td>aze_19171111_11_OFFER_87</td>\n",
       "      <td>Monteur 9818\\nfür Gas- und Wasserleitung wird ...</td>\n",
       "      <td>1917</td>\n",
       "      <td>OFFER</td>\n",
       "      <td>aze</td>\n",
       "      <td>Arbeiter-Zeitung</td>\n",
       "    </tr>\n",
       "  </tbody>\n",
       "</table>\n",
       "</div>"
      ],
      "text/plain": [
       "                 identifier  \\\n",
       "0  aze_19171111_11_OFFER_78   \n",
       "1  aze_19171111_11_OFFER_44   \n",
       "2  aze_19141018_16_OFFER_23   \n",
       "3  aze_19161203_19_OFFER_36   \n",
       "4  aze_19171111_11_OFFER_87   \n",
       "\n",
       "                                   ground_truth_text  date region_class  \\\n",
       "0  Kartonnagenarbeiterinnen\\nwerden gegen hohen L...  1917        OFFER   \n",
       "1  Maschinnäherinnen\\nfinden dauernde Beschäftigu...  1917        OFFER   \n",
       "2  Kunststopfer\\nSchneider, tüchtig, findet lohne...  1914        OFFER   \n",
       "3  Werkzeugschlosser\\nund Werkzeugdreher für selb...  1916        OFFER   \n",
       "4  Monteur 9818\\nfür Gas- und Wasserleitung wird ...  1917        OFFER   \n",
       "\n",
       "  pub_id          pub_name  \n",
       "0    aze  Arbeiter-Zeitung  \n",
       "1    aze  Arbeiter-Zeitung  \n",
       "2    aze  Arbeiter-Zeitung  \n",
       "3    aze  Arbeiter-Zeitung  \n",
       "4    aze  Arbeiter-Zeitung  "
      ]
     },
     "execution_count": 13,
     "metadata": {},
     "output_type": "execute_result"
    }
   ],
   "source": [
    "sample.head()"
   ]
  },
  {
   "cell_type": "markdown",
   "id": "d48aa712",
   "metadata": {},
   "source": [
    "## Darstellung der manuell angepassten Excel"
   ]
  },
  {
   "cell_type": "code",
   "execution_count": 14,
   "id": "d8c5a572",
   "metadata": {},
   "outputs": [],
   "source": [
    "sample_annotated = pd.read_excel('../input/ground_truth_sample_manuell_annotiert.xlsx', index_col=0)\n",
    "sample_annotated = sample_annotated[[\"identifier\", \"ground_truth_text\", \"stellenbeschreibung\", \"kommunikationsbeschreibung\"]]\n",
    "#export dataframe\n",
    "sample_annotated.to_csv('../output/4.2_sample_für_annotation_ground_truth/ground_truth_sample_manuell_annotiert.csv', encoding='utf-8', sep = \",\", index=False)\n"
   ]
  },
  {
   "cell_type": "code",
   "execution_count": 15,
   "id": "bbfb238f",
   "metadata": {},
   "outputs": [
    {
     "data": {
      "text/html": [
       "<div>\n",
       "<style scoped>\n",
       "    .dataframe tbody tr th:only-of-type {\n",
       "        vertical-align: middle;\n",
       "    }\n",
       "\n",
       "    .dataframe tbody tr th {\n",
       "        vertical-align: top;\n",
       "    }\n",
       "\n",
       "    .dataframe thead th {\n",
       "        text-align: right;\n",
       "    }\n",
       "</style>\n",
       "<table border=\"1\" class=\"dataframe\">\n",
       "  <thead>\n",
       "    <tr style=\"text-align: right;\">\n",
       "      <th></th>\n",
       "      <th>identifier</th>\n",
       "      <th>ground_truth_text</th>\n",
       "      <th>stellenbeschreibung</th>\n",
       "      <th>kommunikationsbeschreibung</th>\n",
       "    </tr>\n",
       "  </thead>\n",
       "  <tbody>\n",
       "    <tr>\n",
       "      <th>826</th>\n",
       "      <td>aze_19111212_12_SEARCH_2</td>\n",
       "      <td>Kinderloses Ehepaar\\nsucht Hausbesorgerposten ...</td>\n",
       "      <td>Kinderloses Ehepaar\\nsucht Hausbesorgerposten \\n</td>\n",
       "      <td>im XVI. oder\\nXVII. Bezirk. Zuschriften unter ...</td>\n",
       "    </tr>\n",
       "    <tr>\n",
       "      <th>815</th>\n",
       "      <td>aze_19161029_17_OFFER_69</td>\n",
       "      <td>Bürstenmachergehilfen\\nBohrer, Drechsler, Einz...</td>\n",
       "      <td>Bürstenmachergehilfen\\nBohrer, Drechsler, Einz...</td>\n",
       "      <td>XIV.\\nReindorfgasse 35. 4852</td>\n",
       "    </tr>\n",
       "    <tr>\n",
       "      <th>899</th>\n",
       "      <td>aze_19161029_17_OFFER_57</td>\n",
       "      <td>Maschinnäherin\\nwelche sich auch zu anderen Ar...</td>\n",
       "      <td>Maschinnäherin\\nwelche sich auch zu anderen Ar...</td>\n",
       "      <td>II. Vereinsgasse 27. 349</td>\n",
       "    </tr>\n",
       "    <tr>\n",
       "      <th>64</th>\n",
       "      <td>aze_19171111_11_OFFER_86</td>\n",
       "      <td>Fabriks-Buchhalterin\\nwird bei hohem Gehalt so...</td>\n",
       "      <td>Fabriks-Buchhalterin\\nwird bei hohem Gehalt so...</td>\n",
       "      <td>XII. Bez., Meidlinger Haupt-\\nstraße 32. 9848</td>\n",
       "    </tr>\n",
       "    <tr>\n",
       "      <th>244</th>\n",
       "      <td>aze_19180310_11_OFFER_11</td>\n",
       "      <td>Militärkappenmacher\\noder Kappennäherin werden...</td>\n",
       "      <td>Militärkappenmacher\\noder Kappennäherin werden...</td>\n",
       "      <td>VII.\\nKirchengasse 9 A. 7446</td>\n",
       "    </tr>\n",
       "  </tbody>\n",
       "</table>\n",
       "</div>"
      ],
      "text/plain": [
       "                   identifier  \\\n",
       "826  aze_19111212_12_SEARCH_2   \n",
       "815  aze_19161029_17_OFFER_69   \n",
       "899  aze_19161029_17_OFFER_57   \n",
       "64   aze_19171111_11_OFFER_86   \n",
       "244  aze_19180310_11_OFFER_11   \n",
       "\n",
       "                                     ground_truth_text  \\\n",
       "826  Kinderloses Ehepaar\\nsucht Hausbesorgerposten ...   \n",
       "815  Bürstenmachergehilfen\\nBohrer, Drechsler, Einz...   \n",
       "899  Maschinnäherin\\nwelche sich auch zu anderen Ar...   \n",
       "64   Fabriks-Buchhalterin\\nwird bei hohem Gehalt so...   \n",
       "244  Militärkappenmacher\\noder Kappennäherin werden...   \n",
       "\n",
       "                                   stellenbeschreibung  \\\n",
       "826   Kinderloses Ehepaar\\nsucht Hausbesorgerposten \\n   \n",
       "815  Bürstenmachergehilfen\\nBohrer, Drechsler, Einz...   \n",
       "899  Maschinnäherin\\nwelche sich auch zu anderen Ar...   \n",
       "64   Fabriks-Buchhalterin\\nwird bei hohem Gehalt so...   \n",
       "244  Militärkappenmacher\\noder Kappennäherin werden...   \n",
       "\n",
       "                            kommunikationsbeschreibung  \n",
       "826  im XVI. oder\\nXVII. Bezirk. Zuschriften unter ...  \n",
       "815                       XIV.\\nReindorfgasse 35. 4852  \n",
       "899                           II. Vereinsgasse 27. 349  \n",
       "64       XII. Bez., Meidlinger Haupt-\\nstraße 32. 9848  \n",
       "244                       VII.\\nKirchengasse 9 A. 7446  "
      ]
     },
     "execution_count": 15,
     "metadata": {},
     "output_type": "execute_result"
    }
   ],
   "source": [
    "sample_annotated.head()"
   ]
  },
  {
   "cell_type": "code",
   "execution_count": null,
   "id": "8e3eb23f",
   "metadata": {},
   "outputs": [],
   "source": []
  }
 ],
 "metadata": {
  "kernelspec": {
   "display_name": "Python 3 (ipykernel)",
   "language": "python",
   "name": "python3"
  },
  "language_info": {
   "codemirror_mode": {
    "name": "ipython",
    "version": 3
   },
   "file_extension": ".py",
   "mimetype": "text/x-python",
   "name": "python",
   "nbconvert_exporter": "python",
   "pygments_lexer": "ipython3",
   "version": "3.9.7"
  }
 },
 "nbformat": 4,
 "nbformat_minor": 5
}
