{
 "cells": [
  {
   "cell_type": "markdown",
   "metadata": {},
   "source": [
    "# 3.1 Analysen des OCR-Korpus"
   ]
  },
  {
   "cell_type": "markdown",
   "metadata": {},
   "source": [
    "## 1. Bibliotheken"
   ]
  },
  {
   "cell_type": "code",
   "execution_count": 1,
   "metadata": {},
   "outputs": [],
   "source": [
    "import pandas as pd\n",
    "import matplotlib.pyplot as plt\n",
    "import regex as re\n",
    "#import seaborn as sns\n",
    "#from collections import  Counter\n",
    "import numpy as np\n",
    "#import re"
   ]
  },
  {
   "cell_type": "markdown",
   "metadata": {},
   "source": [
    "## 2. Datenimport und Erstellung eines intialen OCR-Dataset\n",
    "\n",
    "##### zur Verfügung gestellt durch das FWF-Forschungsprojekt \"The making of the incredibly differentiated labor market: Evidence from job offers from ten decades\""
   ]
  },
  {
   "cell_type": "code",
   "execution_count": 2,
   "metadata": {},
   "outputs": [
    {
     "data": {
      "text/plain": [
       "13581"
      ]
     },
     "execution_count": 2,
     "metadata": {},
     "output_type": "execute_result"
    }
   ],
   "source": [
    "df_regions = pd.read_csv('../input/regions_ft.csv')\n",
    "len(df_regions)"
   ]
  },
  {
   "cell_type": "markdown",
   "metadata": {},
   "source": [
    "### 2.1. Leere Spalten im Korpus ( \"tess_ONB_1.192_300739_989350\" )\n",
    "\n",
    "Checkt, ob manche Spalten aus Versehen kein OCR enthalten. "
   ]
  },
  {
   "cell_type": "code",
   "execution_count": 3,
   "metadata": {},
   "outputs": [
    {
     "data": {
      "text/plain": [
       "88"
      ]
     },
     "execution_count": 3,
     "metadata": {},
     "output_type": "execute_result"
    }
   ],
   "source": [
    "df_regions_nan = df_regions[df_regions['tess_ONB_1.192_300739_989350'].isna()]\n",
    "len(df_regions_nan)"
   ]
  },
  {
   "cell_type": "markdown",
   "metadata": {},
   "source": [
    "#### Löschen alle Zeilen in denen die Spalte \"tess_ONB_1.192_300739_989350\" keinen Inhalt hat"
   ]
  },
  {
   "cell_type": "code",
   "execution_count": 4,
   "metadata": {},
   "outputs": [
    {
     "data": {
      "text/plain": [
       "13493"
      ]
     },
     "execution_count": 4,
     "metadata": {},
     "output_type": "execute_result"
    }
   ],
   "source": [
    "df_regions = df_regions.dropna(subset = [\"tess_ONB_1.192_300739_989350\"])\n",
    "\n",
    "len(df_regions)\n"
   ]
  },
  {
   "cell_type": "markdown",
   "metadata": {},
   "source": [
    "### 2.2. Anreicherung des Dataframes mit dem Datum aus dem Identifier\n",
    "\n",
    "Hier werden der identifier, sowie ein Datum aus dem img_name extrahiert. \n",
    "Ebenfalls verwendet die vorliegende Arbeit lediglich die OCR des UB Mannheim Tesseract Modells (\"tess_ONB_1.192_300739_989350\"). Aus diesem Grund werden alle weiteren Spalten nicht mehr benötigt"
   ]
  },
  {
   "cell_type": "code",
   "execution_count": 5,
   "metadata": {},
   "outputs": [],
   "source": [
    "# create an identifier by strip the .jpg\n",
    "df_regions['identifier'] = df_regions['img_name'].str.rstrip('.jpg')\n",
    "\n",
    "# add the date\n",
    "search = []    \n",
    "for values in df_regions['identifier']:\n",
    "    search.append(re.search(r'\\d\\d\\d\\d', values).group())\n",
    "\n",
    "df_regions['date'] = search\n",
    "df_regions = df_regions.astype({'date': int})\n"
   ]
  },
  {
   "cell_type": "code",
   "execution_count": 6,
   "metadata": {},
   "outputs": [
    {
     "name": "stderr",
     "output_type": "stream",
     "text": [
      "/var/folders/d1/x4qm1hmx4sj6q61rdmcwx57m0000gn/T/ipykernel_5362/2273702464.py:4: SettingWithCopyWarning: \n",
      "A value is trying to be set on a copy of a slice from a DataFrame\n",
      "\n",
      "See the caveats in the documentation: https://pandas.pydata.org/pandas-docs/stable/user_guide/indexing.html#returning-a-view-versus-a-copy\n",
      "  df_ocr. rename(columns = {'tess_ONB_1.192_300739_989350':'OCR_text'}, inplace = True)\n"
     ]
    },
    {
     "data": {
      "text/html": [
       "<div>\n",
       "<style scoped>\n",
       "    .dataframe tbody tr th:only-of-type {\n",
       "        vertical-align: middle;\n",
       "    }\n",
       "\n",
       "    .dataframe tbody tr th {\n",
       "        vertical-align: top;\n",
       "    }\n",
       "\n",
       "    .dataframe thead th {\n",
       "        text-align: right;\n",
       "    }\n",
       "</style>\n",
       "<table border=\"1\" class=\"dataframe\">\n",
       "  <thead>\n",
       "    <tr style=\"text-align: right;\">\n",
       "      <th></th>\n",
       "      <th>identifier</th>\n",
       "      <th>region_class</th>\n",
       "      <th>pub_id</th>\n",
       "      <th>pub_name</th>\n",
       "      <th>img_name</th>\n",
       "      <th>date</th>\n",
       "      <th>OCR_text</th>\n",
       "    </tr>\n",
       "  </thead>\n",
       "  <tbody>\n",
       "    <tr>\n",
       "      <th>13576</th>\n",
       "      <td>awi_19481002_7_SEARCH_64</td>\n",
       "      <td>SEARCH</td>\n",
       "      <td>awi</td>\n",
       "      <td>Arbeiterwille</td>\n",
       "      <td>awi_19481002_7_SEARCH_64.jpg</td>\n",
       "      <td>1948</td>\n",
       "      <td>Dame mittleren Alters, re⸗\\npräsentationsfählg...</td>\n",
       "    </tr>\n",
       "    <tr>\n",
       "      <th>13577</th>\n",
       "      <td>awi_19481002_7_SEARCH_65</td>\n",
       "      <td>SEARCH</td>\n",
       "      <td>awi</td>\n",
       "      <td>Arbeiterwille</td>\n",
       "      <td>awi_19481002_7_SEARCH_65.jpg</td>\n",
       "      <td>1948</td>\n",
       "      <td>Ehrlicher, elßiner.\\nselbständiger Elektro⸗- u...</td>\n",
       "    </tr>\n",
       "    <tr>\n",
       "      <th>13578</th>\n",
       "      <td>awi_19481002_7_SEARCH_66</td>\n",
       "      <td>SEARCH</td>\n",
       "      <td>awi</td>\n",
       "      <td>Arbeiterwille</td>\n",
       "      <td>awi_19481002_7_SEARCH_66.jpg</td>\n",
       "      <td>1948</td>\n",
       "      <td>Kraftfahrer, Klasse 2.\\n20jährige Prazis, gute...</td>\n",
       "    </tr>\n",
       "    <tr>\n",
       "      <th>13579</th>\n",
       "      <td>awi_19481002_7_HEADING_67</td>\n",
       "      <td>HEADING</td>\n",
       "      <td>awi</td>\n",
       "      <td>Arbeiterwille</td>\n",
       "      <td>awi_19481002_7_HEADING_67.jpg</td>\n",
       "      <td>1948</td>\n",
       "      <td>\\n</td>\n",
       "    </tr>\n",
       "    <tr>\n",
       "      <th>13580</th>\n",
       "      <td>awi_19481002_7_HEADING_68</td>\n",
       "      <td>HEADING</td>\n",
       "      <td>awi</td>\n",
       "      <td>Arbeiterwille</td>\n",
       "      <td>awi_19481002_7_HEADING_68.jpg</td>\n",
       "      <td>1948</td>\n",
       "      <td>\\n</td>\n",
       "    </tr>\n",
       "  </tbody>\n",
       "</table>\n",
       "</div>"
      ],
      "text/plain": [
       "                      identifier region_class pub_id       pub_name  \\\n",
       "13576   awi_19481002_7_SEARCH_64       SEARCH    awi  Arbeiterwille   \n",
       "13577   awi_19481002_7_SEARCH_65       SEARCH    awi  Arbeiterwille   \n",
       "13578   awi_19481002_7_SEARCH_66       SEARCH    awi  Arbeiterwille   \n",
       "13579  awi_19481002_7_HEADING_67      HEADING    awi  Arbeiterwille   \n",
       "13580  awi_19481002_7_HEADING_68      HEADING    awi  Arbeiterwille   \n",
       "\n",
       "                            img_name  date  \\\n",
       "13576   awi_19481002_7_SEARCH_64.jpg  1948   \n",
       "13577   awi_19481002_7_SEARCH_65.jpg  1948   \n",
       "13578   awi_19481002_7_SEARCH_66.jpg  1948   \n",
       "13579  awi_19481002_7_HEADING_67.jpg  1948   \n",
       "13580  awi_19481002_7_HEADING_68.jpg  1948   \n",
       "\n",
       "                                                OCR_text  \n",
       "13576  Dame mittleren Alters, re⸗\\npräsentationsfählg...  \n",
       "13577  Ehrlicher, elßiner.\\nselbständiger Elektro⸗- u...  \n",
       "13578  Kraftfahrer, Klasse 2.\\n20jährige Prazis, gute...  \n",
       "13579                                                 \\n  \n",
       "13580                                                 \\n  "
      ]
     },
     "execution_count": 6,
     "metadata": {},
     "output_type": "execute_result"
    }
   ],
   "source": [
    "# filter for columns we need\n",
    "df_ocr = df_regions[[\"identifier\", \"region_class\", \"pub_id\", \"pub_name\", \"img_name\", \"date\", \"tess_ONB_1.192_300739_989350\" ]]\n",
    "\n",
    "df_ocr. rename(columns = {'tess_ONB_1.192_300739_989350':'OCR_text'}, inplace = True)\n",
    "\n",
    "df_ocr.tail()"
   ]
  },
  {
   "cell_type": "markdown",
   "metadata": {},
   "source": [
    "## Analysen"
   ]
  },
  {
   "cell_type": "markdown",
   "metadata": {},
   "source": [
    "### 3.1. Verteilung von Zeitungen im Gesamtkorpus (OCR)"
   ]
  },
  {
   "cell_type": "markdown",
   "metadata": {},
   "source": [
    "#### Verteilung der Anzeigen zwischen Gesuch (Search) und Anzeigen (Offer) Gesamtkorpus"
   ]
  },
  {
   "cell_type": "code",
   "execution_count": 7,
   "metadata": {},
   "outputs": [
    {
     "data": {
      "text/plain": [
       "<AxesSubplot:xlabel='Kategorie der Anzeige', ylabel='Anzahl der Anzeigen je Kategorie'>"
      ]
     },
     "execution_count": 7,
     "metadata": {},
     "output_type": "execute_result"
    },
    {
     "data": {
      "image/png": "[encoded data removed]",
      "text/plain": [
       "<Figure size 864x504 with 1 Axes>"
      ]
     },
     "metadata": {
      "needs_background": "light"
     },
     "output_type": "display_data"
    }
   ],
   "source": [
    "# Visualization of news region_class and article count in the dataset \n",
    "\n",
    "plt.figure(figsize=(12,7))\n",
    "\n",
    "plt.xlabel(\"Kategorie der Anzeige\")\n",
    "plt.ylabel(\"Anzahl der Anzeigen je Kategorie\")\n",
    "\n",
    "df_ocr.region_class.value_counts().plot(kind='bar')"
   ]
  },
  {
   "cell_type": "code",
   "execution_count": 8,
   "metadata": {},
   "outputs": [
    {
     "data": {
      "text/html": [
       "<div>\n",
       "<style scoped>\n",
       "    .dataframe tbody tr th:only-of-type {\n",
       "        vertical-align: middle;\n",
       "    }\n",
       "\n",
       "    .dataframe tbody tr th {\n",
       "        vertical-align: top;\n",
       "    }\n",
       "\n",
       "    .dataframe thead th {\n",
       "        text-align: right;\n",
       "    }\n",
       "</style>\n",
       "<table border=\"1\" class=\"dataframe\">\n",
       "  <thead>\n",
       "    <tr style=\"text-align: right;\">\n",
       "      <th></th>\n",
       "      <th>identifier</th>\n",
       "      <th>region_class</th>\n",
       "      <th>pub_id</th>\n",
       "      <th>pub_name</th>\n",
       "      <th>img_name</th>\n",
       "      <th>date</th>\n",
       "      <th>OCR_text</th>\n",
       "    </tr>\n",
       "  </thead>\n",
       "  <tbody>\n",
       "    <tr>\n",
       "      <th>0</th>\n",
       "      <td>ptb_19300406_20_SEARCH_0</td>\n",
       "      <td>SEARCH</td>\n",
       "      <td>ptb</td>\n",
       "      <td>Prager Tagblatt</td>\n",
       "      <td>ptb_19300406_20_SEARCH_0.jpg</td>\n",
       "      <td>1930</td>\n",
       "      <td>Junger Mann\\naus der Kolonalwarenbranche,\\nnac...</td>\n",
       "    </tr>\n",
       "    <tr>\n",
       "      <th>1</th>\n",
       "      <td>ptb_19300406_20_SEARCH_1</td>\n",
       "      <td>SEARCH</td>\n",
       "      <td>ptb</td>\n",
       "      <td>Prager Tagblatt</td>\n",
       "      <td>ptb_19300406_20_SEARCH_1.jpg</td>\n",
       "      <td>1930</td>\n",
       "      <td>21jähriger Beamter,\\n\\nmilitärfrei, in ekündig...</td>\n",
       "    </tr>\n",
       "    <tr>\n",
       "      <th>2</th>\n",
       "      <td>ptb_19300406_20_SEARCH_2</td>\n",
       "      <td>SEARCH</td>\n",
       "      <td>ptb</td>\n",
       "      <td>Prager Tagblatt</td>\n",
       "      <td>ptb_19300406_20_SEARCH_2.jpg</td>\n",
       "      <td>1930</td>\n",
       "      <td>Bilanzbuchhalter\\nmit Lansskirr. Praxis in der...</td>\n",
       "    </tr>\n",
       "    <tr>\n",
       "      <th>3</th>\n",
       "      <td>ptb_19300406_20_SEARCH_3</td>\n",
       "      <td>SEARCH</td>\n",
       "      <td>ptb</td>\n",
       "      <td>Prager Tagblatt</td>\n",
       "      <td>ptb_19300406_20_SEARCH_3.jpg</td>\n",
       "      <td>1930</td>\n",
       "      <td>Techniker,\\n\\n24 Jahre, militärfrei. Abſolvent...</td>\n",
       "    </tr>\n",
       "    <tr>\n",
       "      <th>4</th>\n",
       "      <td>ptb_19300406_20_SEARCH_4</td>\n",
       "      <td>SEARCH</td>\n",
       "      <td>ptb</td>\n",
       "      <td>Prager Tagblatt</td>\n",
       "      <td>ptb_19300406_20_SEARCH_4.jpg</td>\n",
       "      <td>1930</td>\n",
       "      <td>Jüngerer Kontoriſt,\\n19 Jahre, Deutſch, elwas ...</td>\n",
       "    </tr>\n",
       "  </tbody>\n",
       "</table>\n",
       "</div>"
      ],
      "text/plain": [
       "                 identifier region_class pub_id         pub_name  \\\n",
       "0  ptb_19300406_20_SEARCH_0       SEARCH    ptb  Prager Tagblatt   \n",
       "1  ptb_19300406_20_SEARCH_1       SEARCH    ptb  Prager Tagblatt   \n",
       "2  ptb_19300406_20_SEARCH_2       SEARCH    ptb  Prager Tagblatt   \n",
       "3  ptb_19300406_20_SEARCH_3       SEARCH    ptb  Prager Tagblatt   \n",
       "4  ptb_19300406_20_SEARCH_4       SEARCH    ptb  Prager Tagblatt   \n",
       "\n",
       "                       img_name  date  \\\n",
       "0  ptb_19300406_20_SEARCH_0.jpg  1930   \n",
       "1  ptb_19300406_20_SEARCH_1.jpg  1930   \n",
       "2  ptb_19300406_20_SEARCH_2.jpg  1930   \n",
       "3  ptb_19300406_20_SEARCH_3.jpg  1930   \n",
       "4  ptb_19300406_20_SEARCH_4.jpg  1930   \n",
       "\n",
       "                                            OCR_text  \n",
       "0  Junger Mann\\naus der Kolonalwarenbranche,\\nnac...  \n",
       "1  21jähriger Beamter,\\n\\nmilitärfrei, in ekündig...  \n",
       "2  Bilanzbuchhalter\\nmit Lansskirr. Praxis in der...  \n",
       "3  Techniker,\\n\\n24 Jahre, militärfrei. Abſolvent...  \n",
       "4  Jüngerer Kontoriſt,\\n19 Jahre, Deutſch, elwas ...  "
      ]
     },
     "execution_count": 8,
     "metadata": {},
     "output_type": "execute_result"
    }
   ],
   "source": [
    "df_ocr.head()"
   ]
  },
  {
   "cell_type": "code",
   "execution_count": 9,
   "metadata": {},
   "outputs": [
    {
     "data": {
      "text/html": [
       "<div>\n",
       "<style scoped>\n",
       "    .dataframe tbody tr th:only-of-type {\n",
       "        vertical-align: middle;\n",
       "    }\n",
       "\n",
       "    .dataframe tbody tr th {\n",
       "        vertical-align: top;\n",
       "    }\n",
       "\n",
       "    .dataframe thead th {\n",
       "        text-align: right;\n",
       "    }\n",
       "</style>\n",
       "<table border=\"1\" class=\"dataframe\">\n",
       "  <thead>\n",
       "    <tr style=\"text-align: right;\">\n",
       "      <th></th>\n",
       "      <th>Unnamed: 0</th>\n",
       "      <th>region_class</th>\n",
       "      <th>bbox</th>\n",
       "      <th>img_name</th>\n",
       "      <th>page</th>\n",
       "      <th>pub_id</th>\n",
       "      <th>tess_ONB_1.192_300739_989350</th>\n",
       "      <th>tess_deu</th>\n",
       "      <th>pub_name</th>\n",
       "      <th>idx</th>\n",
       "      <th>fasttext_corrected</th>\n",
       "      <th>identifier</th>\n",
       "      <th>date</th>\n",
       "    </tr>\n",
       "  </thead>\n",
       "  <tbody>\n",
       "    <tr>\n",
       "      <th>0</th>\n",
       "      <td>0</td>\n",
       "      <td>SEARCH</td>\n",
       "      <td>BBox(x1=3097.892578125, x2=3537.60009765625, y...</td>\n",
       "      <td>ptb_19300406_20_SEARCH_0.jpg</td>\n",
       "      <td>http://anno.onb.ac.at/cgi-content/anno?aid=ptb...</td>\n",
       "      <td>ptb</td>\n",
       "      <td>Junger Mann\\naus der Kolonalwarenbranche,\\nnac...</td>\n",
       "      <td>Junger Maun\\naus der Solomaliverenbrandge,\\nna...</td>\n",
       "      <td>Prager Tagblatt</td>\n",
       "      <td>NaN</td>\n",
       "      <td>junger mann\\naus der kolonialwarenbranche,\\nna...</td>\n",
       "      <td>ptb_19300406_20_SEARCH_0</td>\n",
       "      <td>1930</td>\n",
       "    </tr>\n",
       "  </tbody>\n",
       "</table>\n",
       "</div>"
      ],
      "text/plain": [
       "   Unnamed: 0 region_class                                               bbox  \\\n",
       "0           0       SEARCH  BBox(x1=3097.892578125, x2=3537.60009765625, y...   \n",
       "\n",
       "                       img_name  \\\n",
       "0  ptb_19300406_20_SEARCH_0.jpg   \n",
       "\n",
       "                                                page pub_id  \\\n",
       "0  http://anno.onb.ac.at/cgi-content/anno?aid=ptb...    ptb   \n",
       "\n",
       "                        tess_ONB_1.192_300739_989350  \\\n",
       "0  Junger Mann\\naus der Kolonalwarenbranche,\\nnac...   \n",
       "\n",
       "                                            tess_deu         pub_name  idx  \\\n",
       "0  Junger Maun\\naus der Solomaliverenbrandge,\\nna...  Prager Tagblatt  NaN   \n",
       "\n",
       "                                  fasttext_corrected  \\\n",
       "0  junger mann\\naus der kolonialwarenbranche,\\nna...   \n",
       "\n",
       "                 identifier  date  \n",
       "0  ptb_19300406_20_SEARCH_0  1930  "
      ]
     },
     "execution_count": 9,
     "metadata": {},
     "output_type": "execute_result"
    }
   ],
   "source": [
    "df_regions.head(1)"
   ]
  },
  {
   "cell_type": "markdown",
   "metadata": {},
   "source": [
    "#### Headings und ihre Inhalte.\n",
    "\n",
    "Werden Headings benötigt? "
   ]
  },
  {
   "cell_type": "code",
   "execution_count": 10,
   "metadata": {},
   "outputs": [
    {
     "data": {
      "text/html": [
       "<div>\n",
       "<style scoped>\n",
       "    .dataframe tbody tr th:only-of-type {\n",
       "        vertical-align: middle;\n",
       "    }\n",
       "\n",
       "    .dataframe tbody tr th {\n",
       "        vertical-align: top;\n",
       "    }\n",
       "\n",
       "    .dataframe thead th {\n",
       "        text-align: right;\n",
       "    }\n",
       "</style>\n",
       "<table border=\"1\" class=\"dataframe\">\n",
       "  <thead>\n",
       "    <tr style=\"text-align: right;\">\n",
       "      <th></th>\n",
       "      <th>region_class</th>\n",
       "      <th>page</th>\n",
       "      <th>tess_ONB_1.192_300739_989350</th>\n",
       "    </tr>\n",
       "  </thead>\n",
       "  <tbody>\n",
       "    <tr>\n",
       "      <th>41</th>\n",
       "      <td>HEADING</td>\n",
       "      <td>http://anno.onb.ac.at/cgi-content/anno?aid=ptb...</td>\n",
       "      <td>männliche,\\n\\n \\n</td>\n",
       "    </tr>\n",
       "    <tr>\n",
       "      <th>42</th>\n",
       "      <td>HEADING</td>\n",
       "      <td>http://anno.onb.ac.at/cgi-content/anno?aid=ptb...</td>\n",
       "      <td>Stellen⸗Hesuche\\n</td>\n",
       "    </tr>\n",
       "    <tr>\n",
       "      <th>43</th>\n",
       "      <td>HEADING</td>\n",
       "      <td>http://anno.onb.ac.at/cgi-content/anno?aid=ptb...</td>\n",
       "      <td>#r.\\nVeibliche: y\\n</td>\n",
       "    </tr>\n",
       "    <tr>\n",
       "      <th>44</th>\n",
       "      <td>HEADING</td>\n",
       "      <td>http://anno.onb.ac.at/cgi-content/anno?aid=ptb...</td>\n",
       "      <td>männliche:\\n—s. ngs- 27 3 W neE#k.\\n</td>\n",
       "    </tr>\n",
       "    <tr>\n",
       "      <th>45</th>\n",
       "      <td>HEADING</td>\n",
       "      <td>http://anno.onb.ac.at/cgi-content/anno?aid=ptb...</td>\n",
       "      <td>\\n\\nOffene Stellen\\n\\n \\n</td>\n",
       "    </tr>\n",
       "  </tbody>\n",
       "</table>\n",
       "</div>"
      ],
      "text/plain": [
       "   region_class                                               page  \\\n",
       "41      HEADING  http://anno.onb.ac.at/cgi-content/anno?aid=ptb...   \n",
       "42      HEADING  http://anno.onb.ac.at/cgi-content/anno?aid=ptb...   \n",
       "43      HEADING  http://anno.onb.ac.at/cgi-content/anno?aid=ptb...   \n",
       "44      HEADING  http://anno.onb.ac.at/cgi-content/anno?aid=ptb...   \n",
       "45      HEADING  http://anno.onb.ac.at/cgi-content/anno?aid=ptb...   \n",
       "\n",
       "            tess_ONB_1.192_300739_989350  \n",
       "41                     männliche,\\n\\n \\n  \n",
       "42                     Stellen⸗Hesuche\\n  \n",
       "43                   #r.\\nVeibliche: y\\n  \n",
       "44  männliche:\\n—s. ngs- 27 3 W neE#k.\\n  \n",
       "45             \\n\\nOffene Stellen\\n\\n \\n  "
      ]
     },
     "execution_count": 10,
     "metadata": {},
     "output_type": "execute_result"
    }
   ],
   "source": [
    "df_headings = df_regions[[\"region_class\", \"page\", \"tess_ONB_1.192_300739_989350\"]]\n",
    "df_headings = df_headings[df_headings.region_class == \"HEADING\"]\n",
    "df_headings.head()"
   ]
  },
  {
   "cell_type": "code",
   "execution_count": 11,
   "metadata": {},
   "outputs": [
    {
     "data": {
      "text/plain": [
       "' \\n\\nOffene Stellen\\n\\n \\n'"
      ]
     },
     "execution_count": 11,
     "metadata": {},
     "output_type": "execute_result"
    }
   ],
   "source": [
    "df_headings[\"tess_ONB_1.192_300739_989350\"].iloc[4]"
   ]
  },
  {
   "cell_type": "code",
   "execution_count": 12,
   "metadata": {},
   "outputs": [
    {
     "data": {
      "text/plain": [
       "{' \\n',\n",
       " ' \\n\\n \\n',\n",
       " ' \\n\\n \\n\\nH\\n\\nweibliche:\\n\\n—..mgrrstmrrr,nmmerg\\n',\n",
       " ' \\n\\n \\n\\nweibliche:\\n\\n—emmsssssnmmnmr rrr\\n',\n",
       " ' \\n\\n#\\n',\n",
       " ' \\n\\n*\\n',\n",
       " ' \\n\\n*\\n\\nOttene Stellen\\n',\n",
       " ' \\n\\n**\\n',\n",
       " ' \\n\\n***\\n',\n",
       " ' \\n\\n***“**. . .\\nSiellen⸗besuehe.\\n',\n",
       " ' \\n\\n8fRLLENANZHISEK\\n',\n",
       " ' \\n\\nAibritemartt.\\n',\n",
       " ' \\n\\nArbeitemarkt\\n',\n",
       " ' \\n\\nHrheltzmarkt\\n',\n",
       " ' \\n\\nIArbeitsnarfkt\\n',\n",
       " ' \\n\\nK&\\n',\n",
       " ' \\n\\nMeibliche.\\n',\n",
       " ' \\n\\nMänanliche.\\n\\n \\n',\n",
       " ' \\n\\nMännliche.\\n',\n",
       " ' \\n\\nMännliche.\\n—...\\n',\n",
       " ' \\n\\nMännliche:\\n',\n",
       " ' \\n\\nMäüönalich.\\n',\n",
       " ' \\n\\nOffene K..# H\\n',\n",
       " ' \\n\\nOffene Stellen\\n',\n",
       " ' \\n\\nOffene Stellen\\n\\n \\n',\n",
       " ' \\n\\nOlſtene Stellen\\n',\n",
       " ' \\n\\nOtene Stellen\\n',\n",
       " ' \\n\\nOtfene Stellen\\n\\n \\n',\n",
       " ' \\n\\nPeibliche.\\n',\n",
       " ' \\n\\nReelen-bestehe.\\n',\n",
       " ' \\n\\nSeels-desuche.\\n',\n",
       " ' \\n\\nStellen Gestche.\\n',\n",
       " ' \\n\\nStellen-Gesuche.\\n',\n",
       " ' \\n\\nStellen-⸗Gesuche\\n',\n",
       " ' \\n\\nVeeintiene.y\\n\\nr#r#rrr.rarrrrr\\n\\n \\n',\n",
       " ' \\n\\nWeibhliche:\\n',\n",
       " ' \\n\\nWeibliche.\\n',\n",
       " ' \\n\\nWeibliche.\\n\\n \\n',\n",
       " ' \\n\\nWeibliche:\\n\\n \\n',\n",
       " ' \\n\\nWeihliche.\\n',\n",
       " ' \\n\\nWelhliche\\n',\n",
       " ' \\n\\nabene 3 Iz a\\n\\n \\n\\n \\n',\n",
       " ' \\n\\neinliche E\\n',\n",
       " ' \\n\\nellen-Gesnche\\n',\n",
       " ' \\n\\nmännliche:\\n',\n",
       " ' \\n\\nmännliche:\\n\\n \\n',\n",
       " ' \\n\\nmännliche:\\n\\n \\n\\n \\n',\n",
       " ' \\n\\nmännliche:\\n\\n***..............———G\\n',\n",
       " ' \\n\\nmännliche:\\n\\n.....——\\n',\n",
       " ' \\n\\nmännliche:;\\n\\n \\n',\n",
       " ' \\n\\nmüännliche;\\n\\n.....—\\n',\n",
       " ' \\n\\nstellen-gesuche\\n\\n,,,,.—1\\n',\n",
       " ' \\n\\ntelen-sestche.\\n',\n",
       " ' \\n\\nweibliche:\\n\\n \\n',\n",
       " ' \\n\\nweibliche:\\n\\n..rILrrrrrrrrrrrrrrrrrrrrrFrFrrrrrrP⸗P⸗VPVPV\\n',\n",
       " ' \\n\\nweiblichet:\\n\\ne\\nKWKKEK.x.DC⸗ ...⸗⸗⸗\\n1I\\n',\n",
       " ' \\n\\n—\\n\\nmännliche:\\n',\n",
       " ' \\n \\n\\n**\\n\\n \\n',\n",
       " '  \\n\\n \\n\\n.—\\n\\nVeibliche:\\n\\n####\\n\\n*—\\n\\n \\n\\n \\n',\n",
       " '  \\n\\n \\n\\n——*\\n\\nVeibliche:\\n\\n####\\n\\n \\n\\n \\n',\n",
       " '  \\n\\nRellen Besuches\\n',\n",
       " '   \\n',\n",
       " '   \\n\\n****\\n\\nWeibliche. 9\\n\\n \\n\\n \\n',\n",
       " '   \\n\\n. ene Steſen.\\n',\n",
       " '   \\n\\nDienstanträge\\n',\n",
       " '   \\n\\nDienstantäge\\n',\n",
       " '   \\n\\nEeteite\\n\\n \\n',\n",
       " '   \\n\\nKHn-Ge\\n\\nenche\\n',\n",
       " '   \\n\\nMännliche.\\n',\n",
       " '   \\n\\nOttene Stellen\\n\\n \\n',\n",
       " '   \\n\\nRellen-estche.\\n\\n \\n',\n",
       " '   \\n\\nSeelen- Gesuche.\\n',\n",
       " '   \\n\\nSeten-Ceruche Mäcaf\\n....msssssmmm,.n:\\n',\n",
       " '   \\n\\nStellen-Geslche.\\n',\n",
       " '   \\n\\nWeibhliche.\\n',\n",
       " '   \\n\\nWeiblich.\\n\\n \\n',\n",
       " '   \\n\\nWeibliche.\\n\\n \\n',\n",
       " '   \\n\\nWeihliche.\\n\\n \\n',\n",
       " '   \\n\\ntene Reellen\\n',\n",
       " '   \\n\\nv) Weibliche.\\n',\n",
       " '    \\n\\n*** ***. . . .\\n\\neibliche.\\n\\n \\n',\n",
       " '    \\n\\nEE⸗\\n\\n \\n\\nMännlich.\\n',\n",
       " '    \\n\\nStelen-sesuche.\\n',\n",
       " '     \\n\\n \\n\\nEs\\n',\n",
       " '     \\n\\nWeihbliche.\\n\\n \\n',\n",
       " '# #.\\n',\n",
       " '# .\\n',\n",
       " '# 1\\n\\nWeihliche.\\n',\n",
       " '# Offene Stellen #\\n',\n",
       " '# eſen\\n\\n   \\n',\n",
       " '# welblichet:\\n***.*.K—1½1à=K=.„K „K —=— \"„—.*K „ . .\\n',\n",
       " '##.i#r##r#ſa\\nUeibliche\\n',\n",
       " '##ese Steilen\\n',\n",
       " '#*\\n',\n",
       " '#r.\\nVeibliche: y\\n',\n",
       " '%ABSäönnliche.\\n',\n",
       " '&&.x\\nVeibliche:\\n\\n \\n',\n",
       " \"'Frr###⸗\\nFliche,\\n\",\n",
       " '*\\n\\nWeibliche:\\n',\n",
       " '* ****“**“——“\\nWeibliche.\\n',\n",
       " '* *.\\n',\n",
       " '* . . . . ....*\\n\\n   \\n\\neelles-Gerüche.\\n\\n \\n     \\n\\n  \\n  \\n',\n",
       " '* .K. ...—.... ..\\nL # IL.\\n',\n",
       " '* “W—*W*]]\"““ \"\"“\" .\\nweibliche:\\n',\n",
       " '**\\n',\n",
       " '**\\n\\ne es Geslche.\\n\\n \\n',\n",
       " '** **\\n\\n \\n',\n",
       " '** deiches\\n\\n \\n',\n",
       " '***\\nWeibliche.\\n',\n",
       " '***\"\"“*“*mwimu\\n\\nOffene Stellen\\n\\n \\n',\n",
       " '****\\n„Feshlshhe\\n\\n \\n',\n",
       " '*******\"\"\"\"“\"***—U\".“3..........\\nweibliche:\\n\\n......*.\\n',\n",
       " '*****...........““““....:::\\nweibliche:\\n\\nsen,te Fasags K.s 888 2 P Nm fktltr a an.\\n',\n",
       " '****— —...\"........\\nVeihliche:\\n—.“““mnrrnn.\\n',\n",
       " '***....*„\\n4sater-Gesuzt# #efelt.\\n',\n",
       " '***....... * .. . ...... ..\\nWeihliche.\\n',\n",
       " '***:::““ “\\nWeihliche:\\n',\n",
       " '**““““ “\\n\\n—““ ... . ...\\n',\n",
       " '**“““““““\\nWeihliche.\\n',\n",
       " '**⸗⸗⸗..... ....r\\nTeibliche\\n',\n",
       " '*.\\n',\n",
       " '*.. ##.\\n',\n",
       " '*.. .\\n',\n",
       " '*..*.“.“““““.\\nWeibliche:\\n',\n",
       " '*... . . .\\n',\n",
       " '*—\\n\\n \\n\\n**\"*\\n\\nMnnliche.\\n\\n \\n',\n",
       " '*—⸗——..........“.““““.......... ...\\nmännliche:\\n\\nS\\n\\n \\n\\n \\n',\n",
       " '--\\nw MAnnliche:\\n\\n********——*\"*....... 1\\n',\n",
       " '. aaa d4à —\\n\\nWeihliche.\\n',\n",
       " '...\\nMännliche.\\n',\n",
       " '... msmnde\\n\\nWeibliche.\\n\\n--###.#\\n',\n",
       " '.................\\n\\nWeibiiche.\\n\\n*\\n\\n \\n',\n",
       " '..................\\nMänaliche:\\n. ......\\n',\n",
       " '........2\\n',\n",
       " '.......——mmmu\\nWeibliche.\\n',\n",
       " '..[[....\\nWeibliche.\\n\\nmerrrmWr, “, ......W.\\n',\n",
       " '1 Männliche.\\n',\n",
       " '1918 ent. zur ſoforttger\\nMit dieſem Pof\\nK 1500.—, Schechitaerte\\n',\n",
       " '2......................... . . .. -\\n\\n**\\nWeihlliche\\n',\n",
       " '3TELLENANZEIGEN D*)\\n',\n",
       " '4 *u\\nMnHche.\\n****“.**.ooo .\\n',\n",
       " '4 HMännliche.\\n',\n",
       " '4 mänanliche:\\nrrr\\n',\n",
       " '4.\\nSSr ⸗\\n\\nWoeibllch.\\n',\n",
       " '8f7ELLENANZIlEKR\\n',\n",
       " '9\\n\\nellen-Gesuche\\n',\n",
       " '9 STELLEENANZEIGEN\\n',\n",
       " 'AKrrbeitemarkt.\\n',\n",
       " 'AMnn#ce.\\n\\n5\\n',\n",
       " 'Aieffengesacse\\n',\n",
       " 'Albeitsmarſt\\n',\n",
       " 'Anträge und Geſuche.\\n',\n",
       " 'Arbeitemarkt\\n',\n",
       " 'Arbeitsmafkt\\n',\n",
       " 'Arbeitsmarkt\\n',\n",
       " 'Arbeitsmarkt.\\n',\n",
       " 'Arbeitsmarkt.\\n\\n \\n',\n",
       " 'Arbeltsmarkt\\n',\n",
       " 'Arbeltzmarkt\\n',\n",
       " 'Arheitemarkt\\n',\n",
       " 'Arrbeitzmarkt\\n',\n",
       " 'Aubeitsmarkt\\n',\n",
       " 'Auträge und Geſuche.\\n',\n",
       " 'Bann#ene\\n',\n",
       " 'Bienſtgeſuche und Offerte.\\n',\n",
       " 'Ctene stellen\\n',\n",
       " 'DNTNeibliche.\\n',\n",
       " 'Deibliche.\\n',\n",
       " 'Dfene Stellen:\\n',\n",
       " 'Dfiene Stellen.\\n\\nWeibliche:\\n',\n",
       " 'Dienstanträge\\n',\n",
       " 'Dienstanträge\\n\\n \\n',\n",
       " 'Dienstänträe\\n\\n \\n',\n",
       " 'Dienſt-Anträge.\\n',\n",
       " 'Dienſt-Auträge.\\n',\n",
       " 'Dienſtgeſuche und AOfferte.\\n',\n",
       " 'Dienſtgeſuche und Hfferte.\\n',\n",
       " 'Dienſtgeſuche und Hſſerte.\\n',\n",
       " 'Dseene Stellen\\n',\n",
       " 'Dsene Stellen.\\n\\nWeibliche:\\n',\n",
       " 'E\\n',\n",
       " 'E\\n\\nWoeibliche:\\n',\n",
       " 'E#.\\n',\n",
       " 'EE\\n',\n",
       " 'ELEENANZHISEN\\n',\n",
       " 'Eee.\\n\\n     \\n\\nWeibliche:\\n\\n—\\n\\n \\n',\n",
       " 'Eften-dar#t#ite Mndul.\\n\\n \\n \\n\\n \\n\\n**\"... . .....\\n',\n",
       " 'Eleleageſache.\\n\\nWeibliche:\\n',\n",
       " 'Elellengejfuche.\\n\\nWeibliche:\\n',\n",
       " 'Elellengezuche.\\n\\nMiännliche:\\n',\n",
       " 'Erbeltemarkt\\n',\n",
       " 'FITELLENANZRIGEN\\n',\n",
       " 'GLisene Stellen\\n',\n",
       " 'Glellengeſuche.\\n\\nWeibliche:\\n',\n",
       " 'Gtellen-Gesuche\\n',\n",
       " 'Gtellengeſuche.\\n\\nWeibliche:\\n',\n",
       " 'H **————. *...\\nweibliche:\\n\\n8\\n⸗.⸗n⸗.. . . Ksssgimasmngemn\\n',\n",
       " 'HArbeitzmarkt\\n',\n",
       " 'Hrbeitsmarkt\\n',\n",
       " 'Hrbeltsmarkt\\n',\n",
       " 'Hännliche.\\n',\n",
       " 'IIbeitsmakt\\n',\n",
       " 'J STELLENANZEIGEN\\n',\n",
       " 'K#\\n',\n",
       " 'Lau Stellen.\\n\\nWeibliche:\\n',\n",
       " 'Lektene Sieilen Rellen\\n',\n",
       " 'Lektene Sieilen Rellen\\n\\n \\n',\n",
       " 'Mannnmene\\n',\n",
       " 'Maönnliche.\\n',\n",
       " 'Meibtione.\\n\\n4 95..\\n\\n \\n',\n",
       " 'Mnnliche.\\n\\n \\n',\n",
       " 'Mrbeitsmarkt\\n',\n",
       " 'Mäanliche.\\n',\n",
       " 'Mänaliche\\n\\n \\n',\n",
       " 'Mänaliche.\\n',\n",
       " 'Mänaliche:\\n',\n",
       " 'Mänaliche:\\n\\n \\n',\n",
       " 'Mänanliche.\\n\\n \\n',\n",
       " 'Mänanliche:\\n',\n",
       " 'Männliche\\n',\n",
       " 'Männliche\\n\\n \\n\\n \\n',\n",
       " 'Männliche\\n\\n½\"*\"*r⸗.r.....!..“.....\\n\\n \\n',\n",
       " 'Männliche.\\n',\n",
       " 'Männliche.\\n\\n \\n',\n",
       " 'Männliche:\\n',\n",
       " 'Männliche:\\n\\n \\n',\n",
       " 'Männlicne.\\n\\n \\n',\n",
       " 'Männtiche.\\n\\n \\n',\n",
       " 'Männtiene\\n',\n",
       " 'Mäsnnliche:\\n',\n",
       " 'Mäunnliche.\\n',\n",
       " 'Mäönnliche.\\n',\n",
       " 'NMännene.\\n',\n",
       " 'NMänniiche\\n',\n",
       " 'Odiene Stellen\\n',\n",
       " 'Oege Stallen.\\n\\n   \\n',\n",
       " 'Ofeene Stellen.\\n\\nWieibliche:\\n',\n",
       " 'Ofeene ötellen.\\n\\nWeibliche:\\n',\n",
       " 'Ofeie Stele.\\n\\nAweibliche:\\n',\n",
       " 'Ofene Stelen.\\n\\nMäunliche:\\n',\n",
       " 'Ofene Steſen.\\n\\nMäüännliche:\\n',\n",
       " 'Ofene Steſten.\\n\\nZeihliche:\\n',\n",
       " 'Ofene öteleen.\\n\\nMännliche:\\n',\n",
       " 'Offene &telten Mrä#\\n\\n \\n',\n",
       " 'Offene Sktellen.\\n\\nWeibliche:\\n',\n",
       " 'Offene Stelien\\n',\n",
       " 'Offene Stelle.\\n',\n",
       " 'Offene Stellen\\n',\n",
       " 'Offene Stellen\\n\\n8\\n',\n",
       " 'Offene Stellen\\n\\nWeibliche:\\n',\n",
       " 'Offene Stellen\\n\\nWelbnch.\\n',\n",
       " 'Offene Stellen.\\n',\n",
       " 'Offene Stellen.\\n\\nMänniiche:\\n',\n",
       " 'Offene Stellen.\\n\\nMännliche\\n',\n",
       " 'Offene Stellen.\\n\\nMännliche.\\n*\"*.\\n',\n",
       " 'Offene Stellen.\\n\\nMännliche:\\n',\n",
       " 'Offene Stellen.\\n\\nWeibliche:\\n',\n",
       " 'Offene Stellen.\\nE\\n',\n",
       " 'Offene Stellen.\\nWeibliche.\\n',\n",
       " 'Offene Stellen.\\nmMreibliche:\\n',\n",
       " 'Offene Stellen:\\n',\n",
       " 'Offene Stellen;\\n',\n",
       " 'Ofsene Stellen\\n\\nMeibliche:\\n',\n",
       " 'Ofsene Stellen.\\n\\nWeivliche:\\n',\n",
       " 'Oftene Stellen.\\n\\nWeibliche:\\n',\n",
       " 'Oiiene Stellen\\n',\n",
       " 'Okfene Stellen\\n\\n   \\n',\n",
       " 'Okfene Stellen.\\n',\n",
       " 'Olene Stelen.\\n\\n   \\n',\n",
       " 'Olene Stellen\\n',\n",
       " 'Olene Steſen.\\n\\n   \\n',\n",
       " 'Olene ienen usidte\\n\\n \\n\\n \\n',\n",
       " 'Osene Stellen.\\n\\nMüännliche:\\n',\n",
       " 'Oseue Stellen.\\n\\nMännliche:\\n',\n",
       " 'Osfene Stellen.\\n\\nMänntiche\\n',\n",
       " 'Ostene Stellen.\\n',\n",
       " 'Otene Stetten Männd\\n\\n \\n',\n",
       " 'Otfene Stellen\\n',\n",
       " 'Otffene Stellen\\n',\n",
       " 'Otftene Stellen\\n\\n \\n',\n",
       " 'Ottene Stellen\\n\\n \\n',\n",
       " 'Ottfene Stellen\\n',\n",
       " 'Oſeene Stellen.\\n\\nWeibliche:\\n',\n",
       " 'Oſſene Stellen.\\n',\n",
       " 'Rellengesuche\\nWeibliche.\\n',\n",
       " 'Relllen-Gesnche\\n\\n#........... ......#.. .\\n',\n",
       " 'Riellengezuche\\n',\n",
       " 'Rrheitzmakt\\n',\n",
       " 'S!EELENANZEIGEN\\n',\n",
       " 'S!HLLEININZIIGEN\\n',\n",
       " 'SELLENANZEFIGEN\\n',\n",
       " 'SRH##\\n',\n",
       " 'STELLENANZRTSEN\\n',\n",
       " 'Slellengeſuche\\n\\nWeibliche\\n',\n",
       " 'Slellengeſuche.\\n',\n",
       " 'Slellengeſuche.\\n\\nMännliche\\n',\n",
       " 'Slellengeſuche.\\n\\nWeibliche:\\n',\n",
       " 'Slellen⸗Gesuche.\\n',\n",
       " 'Sshlsan-\\n\\n \\n',\n",
       " 'Steilengesuchs\\n',\n",
       " 'Steilengesuchse\\n',\n",
       " 'Steits#gesuche\\n',\n",
       " 'Stelengeſiche.\\n',\n",
       " 'Stelengeſuche.\\n\\nMännliche:\\n',\n",
       " 'Stelen⸗Geſuche\\n',\n",
       " 'Stellen Geszuche\\n',\n",
       " 'Stellen-Gesuche\\n',\n",
       " 'Stellen-Geſuche\\n',\n",
       " 'Stellen-desuche\\n',\n",
       " 'Stellen-⸗Gesuche\\n',\n",
       " 'Stellenanzeiter\\ndes Landesarbeitsamtes\\n',\n",
       " 'Stellenanzelger\\ndes Landesarbeltsamtes\\n',\n",
       " 'Stellengeiuche.\\n\\nWeibliche:\\n',\n",
       " 'Stellengeluche.\\n',\n",
       " 'Stellengemce.\\n\\nWeibliche:\\n',\n",
       " 'Stellengemche.\\n\\nMänuliche:\\n',\n",
       " 'Stellengensche.\\n\\nMännliche\\n',\n",
       " 'Stellengesuche\\n',\n",
       " 'Stellengeuche.\\n\\nMännliche:\\n',\n",
       " 'Stellengeſuche\\n',\n",
       " 'Stellengeſuche.\\n',\n",
       " 'Stellengeſuche.\\n\\nMiännliche:\\n',\n",
       " 'Stellengeſuche.\\n\\nMännliche:\\n',\n",
       " 'Stellengeſuche.\\n\\nMänuliche:\\n',\n",
       " 'Stellengeſuche.\\n\\nWeibliche:\\n',\n",
       " 'Stellengeſuche.\\n\\nWeihlicke:\\n',\n",
       " 'Stellengeſuche.\\n\\nWreibliche:\\n',\n",
       " 'Stellengeſuche.\\nMännliche:\\n',\n",
       " 'Stellengeſuche.\\nMüännliche:\\n',\n",
       " 'Stellengeſuche.\\nWeibliche:\\n',\n",
       " 'Stellengeſuche.\\nWoeibliche:\\n',\n",
       " 'Stellengeſuche.\\nWreibliche:\\n',\n",
       " 'Stellengeſuche.\\nWännliche:\\n',\n",
       " 'Stellengeſuche:\\n',\n",
       " 'Stellengeſühe.\\nWeidlicher\\n',\n",
       " 'Stellenvermittlung des Genfer Verhandes\\n\\nfür den Reichsverband COesterreich. Hoteliers.\\nBriefadresse: Placlerungsbureau Genfer Verband, Wien, VI, Papagenogasse 4. Tel. 5104.\\n',\n",
       " 'Stellenyermittlung 488 „Wiener Kellner-Vereines\\n\\n184|4. Brlefad hulhot Nr. S. Gegr. 1868.\\n',\n",
       " 'Stellen⸗Gesuche\\n',\n",
       " 'Stellen⸗Gesuche.\\n',\n",
       " 'Stellen⸗Geſuche\\n',\n",
       " 'Stellen⸗Hesuche\\n',\n",
       " 'Steſengeſuche.\\n\\nMännliche:\\n',\n",
       " 'Stiellengeſuche:\\n',\n",
       " 'Sänaliche I\\n',\n",
       " 'Säs#s Stellen\\n',\n",
       " 'Süene Stelien\\n',\n",
       " 'Ubeitemarkt“\\n',\n",
       " 'Ueibliche.\\n',\n",
       " 'Uffene Stellen.\\n',\n",
       " 'Urbeitsvermittlung des Landesverbandes für\\nWohltätigkeit in Steiermark. ie#\\n',\n",
       " 'UsFene Stellen\\n',\n",
       " 'VVaolbilche\\n',\n",
       " 'Veibliche à\\n',\n",
       " 'Veibliche:\\n\\n \\n',\n",
       " 'Veibliche:\\n\\n\"\". ....r.r rPrPFPrPfPrPVFPFrFrhrfPFPFPFPFPvFVPFVr\\n',\n",
       " 'Veibliche:\\n......................... .„3\\n',\n",
       " 'WKE K #t\\nweibliche: #\\n',\n",
       " 'WMännliche.\\n',\n",
       " 'Wehüche.\\n',\n",
       " 'Weibliche\\n',\n",
       " 'Weibliche.\\n',\n",
       " 'Weibliche.\\n\\n \\n',\n",
       " 'Weibliche.\\n\\n*x\\n\\n \\n',\n",
       " 'Weibliche.\\n\\n—\\n',\n",
       " 'Weibliche:\\n',\n",
       " 'Weibliche:\\n\\n\"\"*..““!..!..;..... .....................\\n',\n",
       " 'Weiblsiche.\\n',\n",
       " 'Weibsiche\\n',\n",
       " 'Weibüche.\\n',\n",
       " 'Weihlfiche\\n',\n",
       " 'Weihliche.\\n',\n",
       " 'Weihliche.\\n........................—\\n',\n",
       " 'Weihliche:\\n\\n \\n',\n",
       " 'Weihliche:\\n\\n..“““ *““ ““D““+“.\\n',\n",
       " 'Weihlichen\\n\\n \\n',\n",
       " 'Weitelliehe\\n',\n",
       " 'Welbliche\\n\\n.r....„*W .“““““.•*#\\n',\n",
       " 'Welbliche.\\n',\n",
       " 'Züänniiche.\\n',\n",
       " '[S8ELLENANZKIGEN\\n',\n",
       " '[—J- E\\n',\n",
       " 'a Männliche.\\n',\n",
       " 'a#.\\nweibliche:\\n',\n",
       " 'a) Männliche.\\n',\n",
       " 'alene Klaten mänat\\n\\n \\n',\n",
       " 'at nWn\\nJTeiEii\\n',\n",
       " 'aten-Ceuhe ah\\n',\n",
       " 'boOftene Stellen.\\n',\n",
       " 'der zugleich Chafen,\\n3102und die Befähigung d\\nfricht an den Volksſchul\\n',\n",
       " 'eibitche:\\n\\n \\n\\n \\n',\n",
       " 'eibliche\\n',\n",
       " 'eilen-Gestche.\\n',\n",
       " 'ene suilen. *\\n\\n \\n\\ntelen.\\n',\n",
       " 'ffene Stellen\\n',\n",
       " 'fheitsmarkt\\n',\n",
       " 'frbeitsmarkt\\n',\n",
       " 'jthelsmaft\\n',\n",
       " 'kaännliche:\\n\\n \\n',\n",
       " 'männliche,\\n\\n \\n',\n",
       " 'männliche.\\n\\n.........\\n',\n",
       " 'männliche:\\n',\n",
       " 'männliche:\\n\\n \\n',\n",
       " 'männliche:\\n\\n..........rrrrrmrrr—\\n',\n",
       " 'männliche:\\n.. ... . . a ..............\\n',\n",
       " 'männliche:\\nd e Wa rns\\n',\n",
       " 'männliche:\\n—s. ngs- 27 3 W neE#k.\\n',\n",
       " 'männliche:\\n⸗⸗ „ „ „ „ „ „.„’ „ ..„.„.⸗.⸗. ....... —\\n',\n",
       " 'männliche:;\\nvſſVp\\n',\n",
       " 'münnliche:\\n',\n",
       " 'ne Stellen\\n',\n",
       " 'nnliche.\\n',\n",
       " 'offene Stellen\\n',\n",
       " 'oflene Sielen.\\n\\n   \\n',\n",
       " 'rheitsmarkt\\n',\n",
       " 'rrrrrrrrrrrrrr—\\n\\nWeiblichet:\\n\\n \\n\\n \\n',\n",
       " 's Stellengeſuche.\\nMWänntiche:\\n',\n",
       " 'tellengesuche\\nMännliche.\\n',\n",
       " 'ttene Stellen\\n\\n   \\n',\n",
       " 'weibliche:\\n\\n \\n',\n",
       " 'weibliche:\\n\\n**\"*............“..*\\n',\n",
       " 'weibliche:\\n\\n***...................\\n\\n \\n',\n",
       " 'weibliche:\\n\\n.....................\\n',\n",
       " 'weibliche:\\n\\nShern.rrrrrrrv.........\\n',\n",
       " 'weibliche:\\n\\n— mP rakaremeremg an srramsabin nnenn\\n',\n",
       " 'weiblichet\\n\\n——““..... . . “⸗⸗“\\n',\n",
       " 'weihliche.\\n\\n \\n',\n",
       " 'Ä\\nmännlliche;\\n\\n \\n',\n",
       " 'änniche\\n.. 4\\n',\n",
       " 'änntiche\\n',\n",
       " '—\\n\\nWeibliche\\n',\n",
       " '— *\\nWeibliche.\\n*—.... .\\n',\n",
       " '—e\\n',\n",
       " '—mssrrr\\n\\nweibliche:\\n\\nerrrrrrrr—.\\n',\n",
       " '——...........\\nweiblichet:\\n\\n \\n',\n",
       " '—““. rrrrr...\\nWeibliche.\\n\\n \\n',\n",
       " '“\\naſ Männsiche.\\n',\n",
       " '“...—\\nStellen-Gesuche\\n',\n",
       " '““\\nwelbliche:\\nenae am Besie Er\\n',\n",
       " '•#———.——Wr\\nHänntiche.\\n',\n",
       " '⸗............—m\\nweibliche:\\n\\nr„mn#rr\\n'}"
      ]
     },
     "execution_count": 12,
     "metadata": {},
     "output_type": "execute_result"
    }
   ],
   "source": [
    "headings = df_headings[\"tess_ONB_1.192_300739_989350\"]\n",
    "headings_set = set(headings)\n",
    "headings_set"
   ]
  },
  {
   "cell_type": "markdown",
   "metadata": {},
   "source": [
    "\"Headings\", also Überschriften, sind für die Analyse von Anzeigen nicht relevant. Aus diesem Grund werden diese Zeilen aus dem Dataframe genommen. "
   ]
  },
  {
   "cell_type": "code",
   "execution_count": 13,
   "metadata": {},
   "outputs": [
    {
     "data": {
      "text/plain": [
       "<AxesSubplot:xlabel='Kategorie der Anzeige', ylabel='Anzahl der Anzeigen je Kategorie'>"
      ]
     },
     "execution_count": 13,
     "metadata": {},
     "output_type": "execute_result"
    },
    {
     "data": {
      "image/png": "[encoded data removed]",
      "text/plain": [
       "<Figure size 864x504 with 1 Axes>"
      ]
     },
     "metadata": {
      "needs_background": "light"
     },
     "output_type": "display_data"
    }
   ],
   "source": [
    "df_ads = df_ocr[df_ocr.region_class != \"HEADING\"]\n",
    "\n",
    "#color_list = list('yc')\n",
    "plt.figure(figsize=(12,7))\n",
    "\n",
    "plt.xlabel(\"Kategorie der Anzeige\")\n",
    "plt.ylabel(\"Anzahl der Anzeigen je Kategorie\")\n",
    "\n",
    "df_ads.region_class.value_counts().plot(kind='bar')"
   ]
  },
  {
   "cell_type": "markdown",
   "metadata": {},
   "source": [
    "### 3.2. Verteilung der Anzahl der Anzeigen je Zeitungen "
   ]
  },
  {
   "cell_type": "code",
   "execution_count": 14,
   "metadata": {},
   "outputs": [
    {
     "data": {
      "text/plain": [
       "<AxesSubplot:xlabel='Zeitungsnamen', ylabel='Zahl der Anzeigen'>"
      ]
     },
     "execution_count": 14,
     "metadata": {},
     "output_type": "execute_result"
    },
    {
     "data": {
      "image/png": "[encoded data removed]",
      "text/plain": [
       "<Figure size 864x504 with 1 Axes>"
      ]
     },
     "metadata": {
      "needs_background": "light"
     },
     "output_type": "display_data"
    }
   ],
   "source": [
    "# Visualization of news pub_name and Job advertisement count in the dataset\n",
    "\n",
    "color_list = list('rgbkymc')\n",
    "plt.figure(figsize=(12,7))\n",
    "\n",
    "plt.xlabel(\"Zeitungsnamen\")\n",
    "plt.ylabel(\"Zahl der Anzeigen\")\n",
    "\n",
    "df_ads.pub_id.value_counts().plot(kind='bar', color=color_list)"
   ]
  },
  {
   "cell_type": "code",
   "execution_count": 15,
   "metadata": {},
   "outputs": [
    {
     "data": {
      "text/plain": [
       "<AxesSubplot:xlabel='Zeitungsnamen', ylabel='Zahl der Anzeigen'>"
      ]
     },
     "execution_count": 15,
     "metadata": {},
     "output_type": "execute_result"
    },
    {
     "data": {
      "image/png": "[encoded data removed]",
      "text/plain": [
       "<Figure size 864x504 with 1 Axes>"
      ]
     },
     "metadata": {
      "needs_background": "light"
     },
     "output_type": "display_data"
    }
   ],
   "source": [
    "color_list = list('rgbkymc')\n",
    "plt.figure(figsize=(12,7))\n",
    "\n",
    "plt.xlabel(\"Zeitungsnamen\")\n",
    "plt.ylabel(\"Zahl der Anzeigen\")\n",
    "\n",
    "df_ads.pub_name.value_counts().plot(kind='bar', color=color_list)"
   ]
  },
  {
   "cell_type": "markdown",
   "metadata": {},
   "source": [
    "### 3.3.  Visualisierung der Länge der Anzeigen\n",
    "\n",
    "Anzahl der Buchstaben, inklusive Whitespace"
   ]
  },
  {
   "cell_type": "code",
   "execution_count": 16,
   "metadata": {},
   "outputs": [
    {
     "data": {
      "text/plain": [
       "<AxesSubplot:xlabel='Anzahl der der Buchstaben inkl. Whitespace', ylabel='Anzahl der Anzeigen'>"
      ]
     },
     "execution_count": 16,
     "metadata": {},
     "output_type": "execute_result"
    },
    {
     "data": {
      "image/png": "[encoded data removed]",
      "text/plain": [
       "<Figure size 864x504 with 1 Axes>"
      ]
     },
     "metadata": {
      "needs_background": "light"
     },
     "output_type": "display_data"
    }
   ],
   "source": [
    "# visualizing job ad length ()\n",
    "\n",
    "plt.figure(figsize=(12,7))\n",
    "plt.ylabel(\"Anzahl der Anzeigen\")\n",
    "plt.xlabel(\"Anzahl der der Buchstaben inkl. Whitespace\")\n",
    "\n",
    "df_ads['OCR_text'].str.len().hist()"
   ]
  },
  {
   "cell_type": "markdown",
   "metadata": {},
   "source": [
    "#### Anzeige der sehr kurzer Stellenanzeigen\n",
    "Wie sehen sehr kurze Stellenanzeigen aus. Könnte dies an der bisher schlechten OCR liegen?"
   ]
  },
  {
   "cell_type": "code",
   "execution_count": 17,
   "metadata": {},
   "outputs": [
    {
     "name": "stderr",
     "output_type": "stream",
     "text": [
      "/var/folders/d1/x4qm1hmx4sj6q61rdmcwx57m0000gn/T/ipykernel_5362/2782651453.py:1: SettingWithCopyWarning: \n",
      "A value is trying to be set on a copy of a slice from a DataFrame.\n",
      "Try using .loc[row_indexer,col_indexer] = value instead\n",
      "\n",
      "See the caveats in the documentation: https://pandas.pydata.org/pandas-docs/stable/user_guide/indexing.html#returning-a-view-versus-a-copy\n",
      "  df_ads[\"num_types\"] = df_ads['OCR_text'].str.len()\n",
      "/var/folders/d1/x4qm1hmx4sj6q61rdmcwx57m0000gn/T/ipykernel_5362/2782651453.py:2: SettingWithCopyWarning: \n",
      "A value is trying to be set on a copy of a slice from a DataFrame.\n",
      "Try using .loc[row_indexer,col_indexer] = value instead\n",
      "\n",
      "See the caveats in the documentation: https://pandas.pydata.org/pandas-docs/stable/user_guide/indexing.html#returning-a-view-versus-a-copy\n",
      "  df_ads[\"num_types\"] = df_ads[\"num_types\"].apply(pd.to_numeric)\n"
     ]
    },
    {
     "data": {
      "text/html": [
       "<div>\n",
       "<style scoped>\n",
       "    .dataframe tbody tr th:only-of-type {\n",
       "        vertical-align: middle;\n",
       "    }\n",
       "\n",
       "    .dataframe tbody tr th {\n",
       "        vertical-align: top;\n",
       "    }\n",
       "\n",
       "    .dataframe thead th {\n",
       "        text-align: right;\n",
       "    }\n",
       "</style>\n",
       "<table border=\"1\" class=\"dataframe\">\n",
       "  <thead>\n",
       "    <tr style=\"text-align: right;\">\n",
       "      <th></th>\n",
       "      <th>identifier</th>\n",
       "      <th>region_class</th>\n",
       "      <th>pub_id</th>\n",
       "      <th>pub_name</th>\n",
       "      <th>img_name</th>\n",
       "      <th>date</th>\n",
       "      <th>OCR_text</th>\n",
       "      <th>num_types</th>\n",
       "    </tr>\n",
       "  </thead>\n",
       "  <tbody>\n",
       "    <tr>\n",
       "      <th>0</th>\n",
       "      <td>ptb_19300406_20_SEARCH_0</td>\n",
       "      <td>SEARCH</td>\n",
       "      <td>ptb</td>\n",
       "      <td>Prager Tagblatt</td>\n",
       "      <td>ptb_19300406_20_SEARCH_0.jpg</td>\n",
       "      <td>1930</td>\n",
       "      <td>Junger Mann\\naus der Kolonalwarenbranche,\\nnac...</td>\n",
       "      <td>314</td>\n",
       "    </tr>\n",
       "    <tr>\n",
       "      <th>1</th>\n",
       "      <td>ptb_19300406_20_SEARCH_1</td>\n",
       "      <td>SEARCH</td>\n",
       "      <td>ptb</td>\n",
       "      <td>Prager Tagblatt</td>\n",
       "      <td>ptb_19300406_20_SEARCH_1.jpg</td>\n",
       "      <td>1930</td>\n",
       "      <td>21jähriger Beamter,\\n\\nmilitärfrei, in ekündig...</td>\n",
       "      <td>284</td>\n",
       "    </tr>\n",
       "    <tr>\n",
       "      <th>2</th>\n",
       "      <td>ptb_19300406_20_SEARCH_2</td>\n",
       "      <td>SEARCH</td>\n",
       "      <td>ptb</td>\n",
       "      <td>Prager Tagblatt</td>\n",
       "      <td>ptb_19300406_20_SEARCH_2.jpg</td>\n",
       "      <td>1930</td>\n",
       "      <td>Bilanzbuchhalter\\nmit Lansskirr. Praxis in der...</td>\n",
       "      <td>258</td>\n",
       "    </tr>\n",
       "    <tr>\n",
       "      <th>3</th>\n",
       "      <td>ptb_19300406_20_SEARCH_3</td>\n",
       "      <td>SEARCH</td>\n",
       "      <td>ptb</td>\n",
       "      <td>Prager Tagblatt</td>\n",
       "      <td>ptb_19300406_20_SEARCH_3.jpg</td>\n",
       "      <td>1930</td>\n",
       "      <td>Techniker,\\n\\n24 Jahre, militärfrei. Abſolvent...</td>\n",
       "      <td>267</td>\n",
       "    </tr>\n",
       "    <tr>\n",
       "      <th>4</th>\n",
       "      <td>ptb_19300406_20_SEARCH_4</td>\n",
       "      <td>SEARCH</td>\n",
       "      <td>ptb</td>\n",
       "      <td>Prager Tagblatt</td>\n",
       "      <td>ptb_19300406_20_SEARCH_4.jpg</td>\n",
       "      <td>1930</td>\n",
       "      <td>Jüngerer Kontoriſt,\\n19 Jahre, Deutſch, elwas ...</td>\n",
       "      <td>226</td>\n",
       "    </tr>\n",
       "  </tbody>\n",
       "</table>\n",
       "</div>"
      ],
      "text/plain": [
       "                 identifier region_class pub_id         pub_name  \\\n",
       "0  ptb_19300406_20_SEARCH_0       SEARCH    ptb  Prager Tagblatt   \n",
       "1  ptb_19300406_20_SEARCH_1       SEARCH    ptb  Prager Tagblatt   \n",
       "2  ptb_19300406_20_SEARCH_2       SEARCH    ptb  Prager Tagblatt   \n",
       "3  ptb_19300406_20_SEARCH_3       SEARCH    ptb  Prager Tagblatt   \n",
       "4  ptb_19300406_20_SEARCH_4       SEARCH    ptb  Prager Tagblatt   \n",
       "\n",
       "                       img_name  date  \\\n",
       "0  ptb_19300406_20_SEARCH_0.jpg  1930   \n",
       "1  ptb_19300406_20_SEARCH_1.jpg  1930   \n",
       "2  ptb_19300406_20_SEARCH_2.jpg  1930   \n",
       "3  ptb_19300406_20_SEARCH_3.jpg  1930   \n",
       "4  ptb_19300406_20_SEARCH_4.jpg  1930   \n",
       "\n",
       "                                            OCR_text  num_types  \n",
       "0  Junger Mann\\naus der Kolonalwarenbranche,\\nnac...        314  \n",
       "1  21jähriger Beamter,\\n\\nmilitärfrei, in ekündig...        284  \n",
       "2  Bilanzbuchhalter\\nmit Lansskirr. Praxis in der...        258  \n",
       "3  Techniker,\\n\\n24 Jahre, militärfrei. Abſolvent...        267  \n",
       "4  Jüngerer Kontoriſt,\\n19 Jahre, Deutſch, elwas ...        226  "
      ]
     },
     "execution_count": 17,
     "metadata": {},
     "output_type": "execute_result"
    }
   ],
   "source": [
    "df_ads[\"num_types\"] = df_ads['OCR_text'].str.len()\n",
    "df_ads[\"num_types\"] = df_ads[\"num_types\"].apply(pd.to_numeric)\n",
    "\n",
    "df_ads.head()"
   ]
  },
  {
   "cell_type": "code",
   "execution_count": 18,
   "metadata": {},
   "outputs": [
    {
     "data": {
      "text/plain": [
       "identifier      object\n",
       "region_class    object\n",
       "pub_id          object\n",
       "pub_name        object\n",
       "img_name        object\n",
       "date             int64\n",
       "OCR_text        object\n",
       "num_types        int64\n",
       "dtype: object"
      ]
     },
     "execution_count": 18,
     "metadata": {},
     "output_type": "execute_result"
    }
   ],
   "source": [
    "df_ads.dtypes"
   ]
  },
  {
   "cell_type": "code",
   "execution_count": 19,
   "metadata": {},
   "outputs": [],
   "source": [
    "# filter df_ads, all ads that have 100 or less types\n",
    "df_ads_short = df_ads[df_ads[\"num_types\"] <= 100]"
   ]
  },
  {
   "cell_type": "code",
   "execution_count": 20,
   "metadata": {},
   "outputs": [
    {
     "data": {
      "text/plain": [
       "'Süche perfekten 5567\\nBuchhalter.\\n\\nChiffre: „Zukunſt . Z. 2004\\n—4%“ an die Verw. Buattes.\\n'"
      ]
     },
     "execution_count": 20,
     "metadata": {},
     "output_type": "execute_result"
    }
   ],
   "source": [
    "df_ads_short[\"OCR_text\"].iloc[3]"
   ]
  },
  {
   "cell_type": "code",
   "execution_count": 21,
   "metadata": {},
   "outputs": [
    {
     "data": {
      "text/plain": [
       "'Bew. Wirtſchafterin\\nfür Prager Herrn mit 2\\nSöhnen ſucht ſofort 20426\\nInſtitut Newekluf,\\n** 38 un.\\n'"
      ]
     },
     "execution_count": 21,
     "metadata": {},
     "output_type": "execute_result"
    }
   ],
   "source": [
    "df_ads_short[\"OCR_text\"].iloc[11]"
   ]
  },
  {
   "cell_type": "code",
   "execution_count": 22,
   "metadata": {},
   "outputs": [
    {
     "data": {
      "text/plain": [
       "'Junge perfekte 9057\\nHerrſchaftsköchin\\nmit langj. Zeugn. empf.\\nnre Anna Kohn.\\n\\nGeiſtgaſſe 4. 9057\\n\\n \\n'"
      ]
     },
     "execution_count": 22,
     "metadata": {},
     "output_type": "execute_result"
    }
   ],
   "source": [
    "df_ads_short[\"OCR_text\"].iloc[100]"
   ]
  },
  {
   "cell_type": "markdown",
   "metadata": {},
   "source": [
    "Es scheint, dass auch sehr kurze Anzeigen als normale Stellenanzeige wahrgenommen werden können. Man beachte, dass diese Texte bisher noch nicht bereinigt wurden. \n",
    "Grundsätzlich sollten diese Texte im Korpus enthalten bleiben. "
   ]
  },
  {
   "cell_type": "markdown",
   "metadata": {},
   "source": [
    "#### Verteilung der Längen der Anzeigen der Stellenangebote"
   ]
  },
  {
   "cell_type": "code",
   "execution_count": 23,
   "metadata": {},
   "outputs": [
    {
     "data": {
      "text/plain": [
       "<AxesSubplot:xlabel='Anzahl der der Buchstaben inkl. Whitespace', ylabel='Anzahl der Stellenangebot-Anzeigen'>"
      ]
     },
     "execution_count": 23,
     "metadata": {},
     "output_type": "execute_result"
    },
    {
     "data": {
      "image/png": "[encoded data removed]",
      "text/plain": [
       "<Figure size 864x504 with 1 Axes>"
      ]
     },
     "metadata": {
      "needs_background": "light"
     },
     "output_type": "display_data"
    }
   ],
   "source": [
    "df_offer = df_ocr[df_ocr.region_class == \"OFFER\"]\n",
    "\n",
    "# visualizing offer-ad length ()\n",
    "\n",
    "plt.figure(figsize=(12,7))\n",
    "plt.ylabel(\"Anzahl der Stellenangebot-Anzeigen\")\n",
    "plt.xlabel(\"Anzahl der der Buchstaben inkl. Whitespace\")\n",
    "\n",
    "df_offer['OCR_text'].str.len().hist()"
   ]
  },
  {
   "cell_type": "markdown",
   "metadata": {},
   "source": [
    "#### Verteilung der Längen der Anzeigen der Stellengesuche"
   ]
  },
  {
   "cell_type": "code",
   "execution_count": 24,
   "metadata": {},
   "outputs": [
    {
     "data": {
      "text/plain": [
       "<AxesSubplot:xlabel='Anzahl der der Buchstaben inkl. Whitespace', ylabel='Anzahl der Stellengesuch-Anzeigen'>"
      ]
     },
     "execution_count": 24,
     "metadata": {},
     "output_type": "execute_result"
    },
    {
     "data": {
      "image/png": "[encoded data removed]",
      "text/plain": [
       "<Figure size 864x504 with 1 Axes>"
      ]
     },
     "metadata": {
      "needs_background": "light"
     },
     "output_type": "display_data"
    }
   ],
   "source": [
    "df_search = df_ocr[df_ocr.region_class == \"SEARCH\"]\n",
    "\n",
    "# visualizing search-ad length ()\n",
    "\n",
    "plt.figure(figsize=(12,7))\n",
    "plt.ylabel(\"Anzahl der Stellengesuch-Anzeigen\")\n",
    "plt.xlabel(\"Anzahl der der Buchstaben inkl. Whitespace\")\n",
    "\n",
    "df_search['OCR_text'].str.len().hist()"
   ]
  },
  {
   "cell_type": "markdown",
   "metadata": {},
   "source": [
    "##### "
   ]
  },
  {
   "cell_type": "markdown",
   "metadata": {},
   "source": [
    "### 3.4. Verteilung der Stellenanzeigen nach Jahr"
   ]
  },
  {
   "cell_type": "code",
   "execution_count": 25,
   "metadata": {},
   "outputs": [
    {
     "data": {
      "text/plain": [
       "<AxesSubplot:xlabel='Jahreszahlen der Anzeigen im Gesamtkorpus', ylabel='Anzahl der Anzeigen'>"
      ]
     },
     "execution_count": 25,
     "metadata": {},
     "output_type": "execute_result"
    },
    {
     "data": {
      "image/png": "[encoded data removed]",
      "text/plain": [
       "<Figure size 1368x648 with 1 Axes>"
      ]
     },
     "metadata": {
      "needs_background": "light"
     },
     "output_type": "display_data"
    }
   ],
   "source": [
    "#Visualize numb of jobAds per year\n",
    "plt.figure(figsize=(19,9))\n",
    "plt.xlabel(\"Jahreszahlen der Anzeigen im Gesamtkorpus\")\n",
    "plt.ylabel(\"Anzahl der Anzeigen\")\n",
    "df_date= df_ocr[\"date\"]\n",
    "df_date.value_counts().sort_index().plot(kind='bar')"
   ]
  },
  {
   "cell_type": "markdown",
   "metadata": {},
   "source": [
    "## 4. Export"
   ]
  },
  {
   "cell_type": "code",
   "execution_count": 26,
   "metadata": {},
   "outputs": [],
   "source": [
    "#export df_ocr with all the information of this notebook\n",
    "\n",
    "df_ads.to_csv('../output/3.1_korpus_analysen_ocr/ocr.csv', index=False)"
   ]
  },
  {
   "cell_type": "code",
   "execution_count": null,
   "metadata": {},
   "outputs": [],
   "source": []
  }
 ],
 "metadata": {
  "kernelspec": {
   "display_name": "Python 3 (ipykernel)",
   "language": "python",
   "name": "python3"
  },
  "language_info": {
   "codemirror_mode": {
    "name": "ipython",
    "version": 3
   },
   "file_extension": ".py",
   "mimetype": "text/x-python",
   "name": "python",
   "nbconvert_exporter": "python",
   "pygments_lexer": "ipython3",
   "version": "3.9.7"
  }
 },
 "nbformat": 4,
 "nbformat_minor": 4
}
