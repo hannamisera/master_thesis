{
 "cells": [
  {
   "cell_type": "markdown",
   "metadata": {},
   "source": [
    "# 3.2 Datengenerierung und Analyse des Goldstandards "
   ]
  },
  {
   "cell_type": "markdown",
   "metadata": {},
   "source": [
    "## 1. Bibliotheken"
   ]
  },
  {
   "cell_type": "code",
   "execution_count": 1,
   "metadata": {},
   "outputs": [],
   "source": [
    "import pandas as pd\n",
    "import matplotlib.pyplot as plt\n",
    "import re\n",
    "from pathlib import Path\n",
    "import glob\n",
    "import os"
   ]
  },
  {
   "cell_type": "markdown",
   "metadata": {},
   "source": [
    "## 2. Goldstandard-Dataset\n",
    "\n",
    "##### zur Verfügung gestellt durch das FWF-Forschungsprojekt \"The making of the incredibly differentiated labor market: Evidence from job offers from ten decades\"\n",
    "Mit Hilfe von Transkribus wurde ein Teil der Stellenanzeigen im ANNO-Korpus manuell transkribiert. Die Arbeiter-Zeitung und Das Vaterland wurden in Gänze transkribiert.\n",
    "Diese txt-files werden im Folgenden nun eingelesen und in einen Dataframe gespeichert. Ebenso können bereits weitere Informationen aus dem filename extrahiert werden."
   ]
  },
  {
   "cell_type": "markdown",
   "metadata": {},
   "source": [
    "### 2.1. Text Import"
   ]
  },
  {
   "cell_type": "code",
   "execution_count": 2,
   "metadata": {},
   "outputs": [
    {
     "data": {
      "text/html": [
       "<div>\n",
       "<style scoped>\n",
       "    .dataframe tbody tr th:only-of-type {\n",
       "        vertical-align: middle;\n",
       "    }\n",
       "\n",
       "    .dataframe tbody tr th {\n",
       "        vertical-align: top;\n",
       "    }\n",
       "\n",
       "    .dataframe thead th {\n",
       "        text-align: right;\n",
       "    }\n",
       "</style>\n",
       "<table border=\"1\" class=\"dataframe\">\n",
       "  <thead>\n",
       "    <tr style=\"text-align: right;\">\n",
       "      <th></th>\n",
       "      <th>identifier</th>\n",
       "      <th>ground_truth_text</th>\n",
       "    </tr>\n",
       "  </thead>\n",
       "  <tbody>\n",
       "    <tr>\n",
       "      <th>0</th>\n",
       "      <td>aze_19171111_11_OFFER_78</td>\n",
       "      <td>Kartonnagenarbeiterinnen\\nwerden gegen hohen L...</td>\n",
       "    </tr>\n",
       "    <tr>\n",
       "      <th>1</th>\n",
       "      <td>aze_19180616_11_OFFER_89</td>\n",
       "      <td>Hilfsarbeiterinnen\\nwerden bei hohem Lohn aufg...</td>\n",
       "    </tr>\n",
       "    <tr>\n",
       "      <th>2</th>\n",
       "      <td>aze_19130831_15_HEADING_37</td>\n",
       "      <td>Arbeitsmarkt\\n</td>\n",
       "    </tr>\n",
       "    <tr>\n",
       "      <th>3</th>\n",
       "      <td>aze_19171111_11_OFFER_44</td>\n",
       "      <td>Maschinnäherinnen\\nfinden dauernde Beschäftigu...</td>\n",
       "    </tr>\n",
       "    <tr>\n",
       "      <th>4</th>\n",
       "      <td>aze_19141018_16_OFFER_23</td>\n",
       "      <td>Kunststopfer\\nSchneider, tüchtig, findet lohne...</td>\n",
       "    </tr>\n",
       "  </tbody>\n",
       "</table>\n",
       "</div>"
      ],
      "text/plain": [
       "                   identifier  \\\n",
       "0    aze_19171111_11_OFFER_78   \n",
       "1    aze_19180616_11_OFFER_89   \n",
       "2  aze_19130831_15_HEADING_37   \n",
       "3    aze_19171111_11_OFFER_44   \n",
       "4    aze_19141018_16_OFFER_23   \n",
       "\n",
       "                                   ground_truth_text  \n",
       "0  Kartonnagenarbeiterinnen\\nwerden gegen hohen L...  \n",
       "1  Hilfsarbeiterinnen\\nwerden bei hohem Lohn aufg...  \n",
       "2                                     Arbeitsmarkt\\n  \n",
       "3  Maschinnäherinnen\\nfinden dauernde Beschäftigu...  \n",
       "4  Kunststopfer\\nSchneider, tüchtig, findet lohne...  "
      ]
     },
     "execution_count": 2,
     "metadata": {},
     "output_type": "execute_result"
    }
   ],
   "source": [
    "#create dataframe from text files (transkribus files)\n",
    "## read every file from the ground_truth txt folder into a dataframe and save the filename as id\n",
    "\n",
    "file_list = glob.glob(os.path.join(os.getcwd(), \"../input/ground_truth/txt\", \"*.txt\"))\n",
    "\n",
    "ad = []\n",
    "files = []\n",
    "\n",
    "for file_path in file_list:\n",
    "    with open(file_path, encoding=\"utf-8\") as f_input:\n",
    "        ad.append(f_input.read())\n",
    "        files.append(''.join([n for n in os.path.basename(file_path)]))\n",
    "\n",
    "df_text = pd.DataFrame({'identifier':files, 'ground_truth_text':ad})\n",
    "\n",
    "df_text['identifier'] = df_text['identifier'].str.rstrip('.txt')\n",
    "\n",
    "\n",
    "\n",
    "df_text.head()"
   ]
  },
  {
   "cell_type": "markdown",
   "metadata": {},
   "source": [
    "### 2.2.  Erstellung des intialen Datensets\n",
    "#### Anreicherung des Dataframes mit allen Metadaten, die sich im Identifier verstecken"
   ]
  },
  {
   "cell_type": "code",
   "execution_count": 3,
   "metadata": {},
   "outputs": [
    {
     "data": {
      "text/html": [
       "<div>\n",
       "<style scoped>\n",
       "    .dataframe tbody tr th:only-of-type {\n",
       "        vertical-align: middle;\n",
       "    }\n",
       "\n",
       "    .dataframe tbody tr th {\n",
       "        vertical-align: top;\n",
       "    }\n",
       "\n",
       "    .dataframe thead th {\n",
       "        text-align: right;\n",
       "    }\n",
       "</style>\n",
       "<table border=\"1\" class=\"dataframe\">\n",
       "  <thead>\n",
       "    <tr style=\"text-align: right;\">\n",
       "      <th></th>\n",
       "      <th>identifier</th>\n",
       "      <th>ground_truth_text</th>\n",
       "      <th>date</th>\n",
       "    </tr>\n",
       "  </thead>\n",
       "  <tbody>\n",
       "    <tr>\n",
       "      <th>0</th>\n",
       "      <td>aze_19171111_11_OFFER_78</td>\n",
       "      <td>Kartonnagenarbeiterinnen\\nwerden gegen hohen L...</td>\n",
       "      <td>1917</td>\n",
       "    </tr>\n",
       "    <tr>\n",
       "      <th>1</th>\n",
       "      <td>aze_19180616_11_OFFER_89</td>\n",
       "      <td>Hilfsarbeiterinnen\\nwerden bei hohem Lohn aufg...</td>\n",
       "      <td>1918</td>\n",
       "    </tr>\n",
       "    <tr>\n",
       "      <th>2</th>\n",
       "      <td>aze_19130831_15_HEADING_37</td>\n",
       "      <td>Arbeitsmarkt\\n</td>\n",
       "      <td>1913</td>\n",
       "    </tr>\n",
       "    <tr>\n",
       "      <th>3</th>\n",
       "      <td>aze_19171111_11_OFFER_44</td>\n",
       "      <td>Maschinnäherinnen\\nfinden dauernde Beschäftigu...</td>\n",
       "      <td>1917</td>\n",
       "    </tr>\n",
       "    <tr>\n",
       "      <th>4</th>\n",
       "      <td>aze_19141018_16_OFFER_23</td>\n",
       "      <td>Kunststopfer\\nSchneider, tüchtig, findet lohne...</td>\n",
       "      <td>1914</td>\n",
       "    </tr>\n",
       "  </tbody>\n",
       "</table>\n",
       "</div>"
      ],
      "text/plain": [
       "                   identifier  \\\n",
       "0    aze_19171111_11_OFFER_78   \n",
       "1    aze_19180616_11_OFFER_89   \n",
       "2  aze_19130831_15_HEADING_37   \n",
       "3    aze_19171111_11_OFFER_44   \n",
       "4    aze_19141018_16_OFFER_23   \n",
       "\n",
       "                                   ground_truth_text  date  \n",
       "0  Kartonnagenarbeiterinnen\\nwerden gegen hohen L...  1917  \n",
       "1  Hilfsarbeiterinnen\\nwerden bei hohem Lohn aufg...  1918  \n",
       "2                                     Arbeitsmarkt\\n  1913  \n",
       "3  Maschinnäherinnen\\nfinden dauernde Beschäftigu...  1917  \n",
       "4  Kunststopfer\\nSchneider, tüchtig, findet lohne...  1914  "
      ]
     },
     "execution_count": 3,
     "metadata": {},
     "output_type": "execute_result"
    }
   ],
   "source": [
    "# add the date\n",
    "search = []    \n",
    "for values in df_text['identifier']:\n",
    "    search.append(re.search(r'\\d\\d\\d\\d', values).group())\n",
    "df_text['date'] = search\n",
    "df_text = df_text.astype({'date': int})\n",
    "df_text.head()"
   ]
  },
  {
   "cell_type": "code",
   "execution_count": 4,
   "metadata": {},
   "outputs": [
    {
     "data": {
      "text/html": [
       "<div>\n",
       "<style scoped>\n",
       "    .dataframe tbody tr th:only-of-type {\n",
       "        vertical-align: middle;\n",
       "    }\n",
       "\n",
       "    .dataframe tbody tr th {\n",
       "        vertical-align: top;\n",
       "    }\n",
       "\n",
       "    .dataframe thead th {\n",
       "        text-align: right;\n",
       "    }\n",
       "</style>\n",
       "<table border=\"1\" class=\"dataframe\">\n",
       "  <thead>\n",
       "    <tr style=\"text-align: right;\">\n",
       "      <th></th>\n",
       "      <th>identifier</th>\n",
       "      <th>ground_truth_text</th>\n",
       "      <th>date</th>\n",
       "      <th>region_class</th>\n",
       "    </tr>\n",
       "  </thead>\n",
       "  <tbody>\n",
       "    <tr>\n",
       "      <th>0</th>\n",
       "      <td>aze_19171111_11_OFFER_78</td>\n",
       "      <td>Kartonnagenarbeiterinnen\\nwerden gegen hohen L...</td>\n",
       "      <td>1917</td>\n",
       "      <td>OFFER</td>\n",
       "    </tr>\n",
       "    <tr>\n",
       "      <th>1</th>\n",
       "      <td>aze_19180616_11_OFFER_89</td>\n",
       "      <td>Hilfsarbeiterinnen\\nwerden bei hohem Lohn aufg...</td>\n",
       "      <td>1918</td>\n",
       "      <td>OFFER</td>\n",
       "    </tr>\n",
       "    <tr>\n",
       "      <th>2</th>\n",
       "      <td>aze_19130831_15_HEADING_37</td>\n",
       "      <td>Arbeitsmarkt\\n</td>\n",
       "      <td>1913</td>\n",
       "      <td>HEADING</td>\n",
       "    </tr>\n",
       "    <tr>\n",
       "      <th>3</th>\n",
       "      <td>aze_19171111_11_OFFER_44</td>\n",
       "      <td>Maschinnäherinnen\\nfinden dauernde Beschäftigu...</td>\n",
       "      <td>1917</td>\n",
       "      <td>OFFER</td>\n",
       "    </tr>\n",
       "    <tr>\n",
       "      <th>4</th>\n",
       "      <td>aze_19141018_16_OFFER_23</td>\n",
       "      <td>Kunststopfer\\nSchneider, tüchtig, findet lohne...</td>\n",
       "      <td>1914</td>\n",
       "      <td>OFFER</td>\n",
       "    </tr>\n",
       "  </tbody>\n",
       "</table>\n",
       "</div>"
      ],
      "text/plain": [
       "                   identifier  \\\n",
       "0    aze_19171111_11_OFFER_78   \n",
       "1    aze_19180616_11_OFFER_89   \n",
       "2  aze_19130831_15_HEADING_37   \n",
       "3    aze_19171111_11_OFFER_44   \n",
       "4    aze_19141018_16_OFFER_23   \n",
       "\n",
       "                                   ground_truth_text  date region_class  \n",
       "0  Kartonnagenarbeiterinnen\\nwerden gegen hohen L...  1917        OFFER  \n",
       "1  Hilfsarbeiterinnen\\nwerden bei hohem Lohn aufg...  1918        OFFER  \n",
       "2                                     Arbeitsmarkt\\n  1913      HEADING  \n",
       "3  Maschinnäherinnen\\nfinden dauernde Beschäftigu...  1917        OFFER  \n",
       "4  Kunststopfer\\nSchneider, tüchtig, findet lohne...  1914        OFFER  "
      ]
     },
     "execution_count": 4,
     "metadata": {},
     "output_type": "execute_result"
    }
   ],
   "source": [
    "# add type\n",
    "search = []    \n",
    "for values in df_text['identifier']:\n",
    "    search.append(re.search(r'[A-Z]+', values).group())\n",
    "\n",
    "df_text['region_class'] = search\n",
    "df_text = df_text.astype({'region_class': str})\n",
    "df_text.head()"
   ]
  },
  {
   "cell_type": "code",
   "execution_count": 5,
   "metadata": {},
   "outputs": [
    {
     "data": {
      "text/html": [
       "<div>\n",
       "<style scoped>\n",
       "    .dataframe tbody tr th:only-of-type {\n",
       "        vertical-align: middle;\n",
       "    }\n",
       "\n",
       "    .dataframe tbody tr th {\n",
       "        vertical-align: top;\n",
       "    }\n",
       "\n",
       "    .dataframe thead th {\n",
       "        text-align: right;\n",
       "    }\n",
       "</style>\n",
       "<table border=\"1\" class=\"dataframe\">\n",
       "  <thead>\n",
       "    <tr style=\"text-align: right;\">\n",
       "      <th></th>\n",
       "      <th>identifier</th>\n",
       "      <th>ground_truth_text</th>\n",
       "      <th>date</th>\n",
       "      <th>region_class</th>\n",
       "      <th>pub_id</th>\n",
       "    </tr>\n",
       "  </thead>\n",
       "  <tbody>\n",
       "    <tr>\n",
       "      <th>0</th>\n",
       "      <td>aze_19171111_11_OFFER_78</td>\n",
       "      <td>Kartonnagenarbeiterinnen\\nwerden gegen hohen L...</td>\n",
       "      <td>1917</td>\n",
       "      <td>OFFER</td>\n",
       "      <td>aze</td>\n",
       "    </tr>\n",
       "    <tr>\n",
       "      <th>1</th>\n",
       "      <td>aze_19180616_11_OFFER_89</td>\n",
       "      <td>Hilfsarbeiterinnen\\nwerden bei hohem Lohn aufg...</td>\n",
       "      <td>1918</td>\n",
       "      <td>OFFER</td>\n",
       "      <td>aze</td>\n",
       "    </tr>\n",
       "    <tr>\n",
       "      <th>2</th>\n",
       "      <td>aze_19130831_15_HEADING_37</td>\n",
       "      <td>Arbeitsmarkt\\n</td>\n",
       "      <td>1913</td>\n",
       "      <td>HEADING</td>\n",
       "      <td>aze</td>\n",
       "    </tr>\n",
       "    <tr>\n",
       "      <th>3</th>\n",
       "      <td>aze_19171111_11_OFFER_44</td>\n",
       "      <td>Maschinnäherinnen\\nfinden dauernde Beschäftigu...</td>\n",
       "      <td>1917</td>\n",
       "      <td>OFFER</td>\n",
       "      <td>aze</td>\n",
       "    </tr>\n",
       "    <tr>\n",
       "      <th>4</th>\n",
       "      <td>aze_19141018_16_OFFER_23</td>\n",
       "      <td>Kunststopfer\\nSchneider, tüchtig, findet lohne...</td>\n",
       "      <td>1914</td>\n",
       "      <td>OFFER</td>\n",
       "      <td>aze</td>\n",
       "    </tr>\n",
       "  </tbody>\n",
       "</table>\n",
       "</div>"
      ],
      "text/plain": [
       "                   identifier  \\\n",
       "0    aze_19171111_11_OFFER_78   \n",
       "1    aze_19180616_11_OFFER_89   \n",
       "2  aze_19130831_15_HEADING_37   \n",
       "3    aze_19171111_11_OFFER_44   \n",
       "4    aze_19141018_16_OFFER_23   \n",
       "\n",
       "                                   ground_truth_text  date region_class pub_id  \n",
       "0  Kartonnagenarbeiterinnen\\nwerden gegen hohen L...  1917        OFFER    aze  \n",
       "1  Hilfsarbeiterinnen\\nwerden bei hohem Lohn aufg...  1918        OFFER    aze  \n",
       "2                                     Arbeitsmarkt\\n  1913      HEADING    aze  \n",
       "3  Maschinnäherinnen\\nfinden dauernde Beschäftigu...  1917        OFFER    aze  \n",
       "4  Kunststopfer\\nSchneider, tüchtig, findet lohne...  1914        OFFER    aze  "
      ]
     },
     "execution_count": 5,
     "metadata": {},
     "output_type": "execute_result"
    }
   ],
   "source": [
    "# add paper \n",
    "search = []    \n",
    "for values in df_text['identifier']:\n",
    "    search.append(re.search(r'^[a-z]+', values).group())\n",
    "\n",
    "df_text['pub_id'] = search\n",
    "df_text = df_text.astype({'pub_id': str})\n",
    "df_text.head()"
   ]
  },
  {
   "cell_type": "code",
   "execution_count": 6,
   "metadata": {},
   "outputs": [],
   "source": [
    "# create new column pub_name by copying the column \"pub_id\"\n",
    "\n",
    "df_text[\"pub_name\"] = df_text[\"pub_id\"]\n",
    "df_text.loc[df_text[\"pub_name\"] == \"aze\", \"pub_name\"] = \"Arbeiter-Zeitung\"\n",
    "df_text.loc[df_text[\"pub_name\"] == \"vtl\", \"pub_name\"] = \"Das Vaterland\""
   ]
  },
  {
   "cell_type": "markdown",
   "metadata": {},
   "source": [
    "#### \"Heading\" aus dem Dataframe entfernen\n",
    "\n",
    "Reine Überschriften werden keine strukturellen Kategorien enthalten und müssen entfernt werden"
   ]
  },
  {
   "cell_type": "code",
   "execution_count": 7,
   "metadata": {},
   "outputs": [
    {
     "data": {
      "text/plain": [
       "<AxesSubplot:>"
      ]
     },
     "execution_count": 7,
     "metadata": {},
     "output_type": "execute_result"
    },
    {
     "data": {
      "image/png": "[encoded data removed]",
      "text/plain": [
       "<Figure size 432x288 with 1 Axes>"
      ]
     },
     "metadata": {
      "needs_background": "light"
     },
     "output_type": "display_data"
    }
   ],
   "source": [
    "df_type = df_text[\"region_class\"]\n",
    "df_type.value_counts().sort_index().plot(kind='bar')"
   ]
  },
  {
   "cell_type": "code",
   "execution_count": 8,
   "metadata": {},
   "outputs": [],
   "source": [
    "#offer and search; we don't need Headings\n",
    "df_ground_truth = df_text[df_text.region_class != \"HEADING\"]"
   ]
  },
  {
   "cell_type": "code",
   "execution_count": 9,
   "metadata": {},
   "outputs": [
    {
     "name": "stdout",
     "output_type": "stream",
     "text": [
      "1117\n"
     ]
    }
   ],
   "source": [
    "print(len(df_text))"
   ]
  },
  {
   "cell_type": "code",
   "execution_count": 10,
   "metadata": {},
   "outputs": [
    {
     "name": "stdout",
     "output_type": "stream",
     "text": [
      "1081\n"
     ]
    }
   ],
   "source": [
    "print(len(df_ground_truth))"
   ]
  },
  {
   "cell_type": "markdown",
   "metadata": {},
   "source": [
    "##### Export des intialen Goldstandard Datenset"
   ]
  },
  {
   "cell_type": "code",
   "execution_count": 11,
   "metadata": {},
   "outputs": [],
   "source": [
    "#export df_ground_truth with all the information of this notebook\n",
    "\n",
    "df_ground_truth.to_csv('../output/3.2_korpus_analysen_ground_truth/ground_truth.csv', index=False)"
   ]
  },
  {
   "cell_type": "code",
   "execution_count": 12,
   "metadata": {},
   "outputs": [
    {
     "data": {
      "text/html": [
       "<div>\n",
       "<style scoped>\n",
       "    .dataframe tbody tr th:only-of-type {\n",
       "        vertical-align: middle;\n",
       "    }\n",
       "\n",
       "    .dataframe tbody tr th {\n",
       "        vertical-align: top;\n",
       "    }\n",
       "\n",
       "    .dataframe thead th {\n",
       "        text-align: right;\n",
       "    }\n",
       "</style>\n",
       "<table border=\"1\" class=\"dataframe\">\n",
       "  <thead>\n",
       "    <tr style=\"text-align: right;\">\n",
       "      <th></th>\n",
       "      <th>identifier</th>\n",
       "      <th>ground_truth_text</th>\n",
       "      <th>date</th>\n",
       "      <th>region_class</th>\n",
       "      <th>pub_id</th>\n",
       "      <th>pub_name</th>\n",
       "    </tr>\n",
       "  </thead>\n",
       "  <tbody>\n",
       "    <tr>\n",
       "      <th>0</th>\n",
       "      <td>aze_19171111_11_OFFER_78</td>\n",
       "      <td>Kartonnagenarbeiterinnen\\nwerden gegen hohen L...</td>\n",
       "      <td>1917</td>\n",
       "      <td>OFFER</td>\n",
       "      <td>aze</td>\n",
       "      <td>Arbeiter-Zeitung</td>\n",
       "    </tr>\n",
       "    <tr>\n",
       "      <th>1</th>\n",
       "      <td>aze_19180616_11_OFFER_89</td>\n",
       "      <td>Hilfsarbeiterinnen\\nwerden bei hohem Lohn aufg...</td>\n",
       "      <td>1918</td>\n",
       "      <td>OFFER</td>\n",
       "      <td>aze</td>\n",
       "      <td>Arbeiter-Zeitung</td>\n",
       "    </tr>\n",
       "    <tr>\n",
       "      <th>3</th>\n",
       "      <td>aze_19171111_11_OFFER_44</td>\n",
       "      <td>Maschinnäherinnen\\nfinden dauernde Beschäftigu...</td>\n",
       "      <td>1917</td>\n",
       "      <td>OFFER</td>\n",
       "      <td>aze</td>\n",
       "      <td>Arbeiter-Zeitung</td>\n",
       "    </tr>\n",
       "    <tr>\n",
       "      <th>4</th>\n",
       "      <td>aze_19141018_16_OFFER_23</td>\n",
       "      <td>Kunststopfer\\nSchneider, tüchtig, findet lohne...</td>\n",
       "      <td>1914</td>\n",
       "      <td>OFFER</td>\n",
       "      <td>aze</td>\n",
       "      <td>Arbeiter-Zeitung</td>\n",
       "    </tr>\n",
       "    <tr>\n",
       "      <th>5</th>\n",
       "      <td>aze_18970516_21_OFFER_2</td>\n",
       "      <td>Schuhmacher\\nwerden zur Besohlung feiner Damen...</td>\n",
       "      <td>1897</td>\n",
       "      <td>OFFER</td>\n",
       "      <td>aze</td>\n",
       "      <td>Arbeiter-Zeitung</td>\n",
       "    </tr>\n",
       "  </tbody>\n",
       "</table>\n",
       "</div>"
      ],
      "text/plain": [
       "                 identifier  \\\n",
       "0  aze_19171111_11_OFFER_78   \n",
       "1  aze_19180616_11_OFFER_89   \n",
       "3  aze_19171111_11_OFFER_44   \n",
       "4  aze_19141018_16_OFFER_23   \n",
       "5   aze_18970516_21_OFFER_2   \n",
       "\n",
       "                                   ground_truth_text  date region_class  \\\n",
       "0  Kartonnagenarbeiterinnen\\nwerden gegen hohen L...  1917        OFFER   \n",
       "1  Hilfsarbeiterinnen\\nwerden bei hohem Lohn aufg...  1918        OFFER   \n",
       "3  Maschinnäherinnen\\nfinden dauernde Beschäftigu...  1917        OFFER   \n",
       "4  Kunststopfer\\nSchneider, tüchtig, findet lohne...  1914        OFFER   \n",
       "5  Schuhmacher\\nwerden zur Besohlung feiner Damen...  1897        OFFER   \n",
       "\n",
       "  pub_id          pub_name  \n",
       "0    aze  Arbeiter-Zeitung  \n",
       "1    aze  Arbeiter-Zeitung  \n",
       "3    aze  Arbeiter-Zeitung  \n",
       "4    aze  Arbeiter-Zeitung  \n",
       "5    aze  Arbeiter-Zeitung  "
      ]
     },
     "execution_count": 12,
     "metadata": {},
     "output_type": "execute_result"
    }
   ],
   "source": [
    "df_ground_truth.head()"
   ]
  },
  {
   "cell_type": "markdown",
   "metadata": {},
   "source": [
    "##### Leere Spalten im Korpus ( \"ground_truth_text\" )?\n",
    "\n",
    "Check, ob manche Spalten aus Versehen keinen Text enthalten. "
   ]
  },
  {
   "cell_type": "code",
   "execution_count": 13,
   "metadata": {},
   "outputs": [
    {
     "data": {
      "text/plain": [
       "0"
      ]
     },
     "execution_count": 13,
     "metadata": {},
     "output_type": "execute_result"
    }
   ],
   "source": [
    "df_ground_truth_nan = df_ground_truth[df_ground_truth['ground_truth_text'].isna()]\n",
    "len(df_ground_truth_nan)"
   ]
  },
  {
   "cell_type": "markdown",
   "metadata": {},
   "source": [
    "es sind keine leeren Zeilen ohne Transkript vorhanden"
   ]
  },
  {
   "cell_type": "markdown",
   "metadata": {},
   "source": [
    "## 3. Analysen"
   ]
  },
  {
   "cell_type": "markdown",
   "metadata": {},
   "source": [
    "### 3.1. Verteilung der Anzeigen zwischen Stellengesuch (Search) und Stellenangeboten (Offer) "
   ]
  },
  {
   "cell_type": "code",
   "execution_count": 14,
   "metadata": {},
   "outputs": [
    {
     "data": {
      "text/plain": [
       "<AxesSubplot:xlabel='Kategorie der Anzeige', ylabel='Anzahl der Anzeigen je Kategorie'>"
      ]
     },
     "execution_count": 14,
     "metadata": {},
     "output_type": "execute_result"
    },
    {
     "data": {
      "image/png": "[encoded data removed]",
      "text/plain": [
       "<Figure size 864x504 with 1 Axes>"
      ]
     },
     "metadata": {
      "needs_background": "light"
     },
     "output_type": "display_data"
    }
   ],
   "source": [
    "# Visualization of news region_class and article count in the dataset \n",
    "\n",
    "plt.figure(figsize=(12,7))\n",
    "\n",
    "plt.xlabel(\"Kategorie der Anzeige\")\n",
    "plt.ylabel(\"Anzahl der Anzeigen je Kategorie\")\n",
    "\n",
    "df_ground_truth.region_class.value_counts().plot(kind='bar')"
   ]
  },
  {
   "cell_type": "markdown",
   "metadata": {},
   "source": [
    "Es muss kurz gecheckt werden, ob die Zeitungen jeweils Stellengebote und Stellengesuche beinhalten"
   ]
  },
  {
   "cell_type": "markdown",
   "metadata": {},
   "source": [
    "#### Verteilung Stellengebote und Stellengesuche Arbeiter-Zeitung"
   ]
  },
  {
   "cell_type": "code",
   "execution_count": 15,
   "metadata": {},
   "outputs": [
    {
     "data": {
      "text/plain": [
       "<AxesSubplot:xlabel='Kategorie der Anzeige', ylabel='Anzahl der Anzeigen je Kategorie'>"
      ]
     },
     "execution_count": 15,
     "metadata": {},
     "output_type": "execute_result"
    },
    {
     "data": {
      "image/png": "[encoded data removed]",
      "text/plain": [
       "<Figure size 864x504 with 1 Axes>"
      ]
     },
     "metadata": {
      "needs_background": "light"
     },
     "output_type": "display_data"
    }
   ],
   "source": [
    "df_aze = df_ground_truth[df_ground_truth.pub_id == \"aze\"]\n",
    "\n",
    "plt.figure(figsize=(12,7))\n",
    "\n",
    "plt.xlabel(\"Kategorie der Anzeige\")\n",
    "plt.ylabel(\"Anzahl der Anzeigen je Kategorie\")\n",
    "\n",
    "df_aze.region_class.value_counts().plot(kind='bar')"
   ]
  },
  {
   "cell_type": "markdown",
   "metadata": {},
   "source": [
    "#### Verteilung Stellengebote und Stellengesuche Das Vaterland"
   ]
  },
  {
   "cell_type": "code",
   "execution_count": 16,
   "metadata": {},
   "outputs": [
    {
     "data": {
      "text/plain": [
       "<AxesSubplot:xlabel='Kategorie der Anzeige', ylabel='Anzahl der Anzeigen je Kategorie'>"
      ]
     },
     "execution_count": 16,
     "metadata": {},
     "output_type": "execute_result"
    },
    {
     "data": {
      "image/png": "[encoded data removed]",
      "text/plain": [
       "<Figure size 864x504 with 1 Axes>"
      ]
     },
     "metadata": {
      "needs_background": "light"
     },
     "output_type": "display_data"
    }
   ],
   "source": [
    "df_vtl = df_ground_truth[df_ground_truth.pub_id == \"vtl\"]\n",
    "\n",
    "plt.figure(figsize=(12,7))\n",
    "\n",
    "plt.xlabel(\"Kategorie der Anzeige\")\n",
    "plt.ylabel(\"Anzahl der Anzeigen je Kategorie\")\n",
    "\n",
    "df_vtl.region_class.value_counts().plot(kind='bar')"
   ]
  },
  {
   "cell_type": "markdown",
   "metadata": {},
   "source": [
    "In beiden Zeitungen sind Stellengesuche und Stellenangebote zu finden"
   ]
  },
  {
   "cell_type": "markdown",
   "metadata": {},
   "source": [
    "### 3.2. Verteilung der Anzahl der Anzeigen je Zeitungen "
   ]
  },
  {
   "cell_type": "code",
   "execution_count": 17,
   "metadata": {},
   "outputs": [
    {
     "data": {
      "text/plain": [
       "<AxesSubplot:xlabel='Zeitungsnamen', ylabel='Zahl der Anzeigen'>"
      ]
     },
     "execution_count": 17,
     "metadata": {},
     "output_type": "execute_result"
    },
    {
     "data": {
      "image/png": "[encoded data removed]",
      "text/plain": [
       "<Figure size 864x504 with 1 Axes>"
      ]
     },
     "metadata": {
      "needs_background": "light"
     },
     "output_type": "display_data"
    }
   ],
   "source": [
    "# Visualization of news pub_name and Job advertisement count in the dataset\n",
    "\n",
    "color_list = list('rgbkymc')\n",
    "plt.figure(figsize=(12,7))\n",
    "\n",
    "plt.xlabel(\"Zeitungsnamen\")\n",
    "plt.ylabel(\"Zahl der Anzeigen\")\n",
    "\n",
    "df_ground_truth.pub_name.value_counts().plot(kind='bar', color=color_list)"
   ]
  },
  {
   "cell_type": "markdown",
   "metadata": {},
   "source": [
    "### 3.3. Visualisierung der Länge der Anzeigen\n",
    "\n",
    "Anzahl der Buchstaben, inklusive Whitespace"
   ]
  },
  {
   "cell_type": "code",
   "execution_count": 18,
   "metadata": {},
   "outputs": [
    {
     "data": {
      "text/plain": [
       "<AxesSubplot:xlabel='Anzahl der der Buchstaben inkl. Whitespace', ylabel='Anzahl der Anzeigen'>"
      ]
     },
     "execution_count": 18,
     "metadata": {},
     "output_type": "execute_result"
    },
    {
     "data": {
      "image/png": "[encoded data removed]",
      "text/plain": [
       "<Figure size 864x504 with 1 Axes>"
      ]
     },
     "metadata": {
      "needs_background": "light"
     },
     "output_type": "display_data"
    }
   ],
   "source": [
    "# visualizing job ad length ()\n",
    "\n",
    "plt.figure(figsize=(12,7))\n",
    "plt.ylabel(\"Anzahl der Anzeigen\")\n",
    "plt.xlabel(\"Anzahl der der Buchstaben inkl. Whitespace\")\n",
    "\n",
    "df_ground_truth['ground_truth_text'].str.len().hist()"
   ]
  },
  {
   "cell_type": "markdown",
   "metadata": {},
   "source": [
    "#### Anzeige der sehr kurzer Stellenanzeigen\n",
    "Wie sehen sehr kurze Stellenanzeigen aus."
   ]
  },
  {
   "cell_type": "code",
   "execution_count": 19,
   "metadata": {},
   "outputs": [
    {
     "name": "stderr",
     "output_type": "stream",
     "text": [
      "/var/folders/d1/x4qm1hmx4sj6q61rdmcwx57m0000gn/T/ipykernel_5420/371458473.py:2: SettingWithCopyWarning: \n",
      "A value is trying to be set on a copy of a slice from a DataFrame.\n",
      "Try using .loc[row_indexer,col_indexer] = value instead\n",
      "\n",
      "See the caveats in the documentation: https://pandas.pydata.org/pandas-docs/stable/user_guide/indexing.html#returning-a-view-versus-a-copy\n",
      "  df_ground_truth[\"num_types\"] = df_ground_truth['ground_truth_text'].str.len()\n",
      "/var/folders/d1/x4qm1hmx4sj6q61rdmcwx57m0000gn/T/ipykernel_5420/371458473.py:4: SettingWithCopyWarning: \n",
      "A value is trying to be set on a copy of a slice from a DataFrame.\n",
      "Try using .loc[row_indexer,col_indexer] = value instead\n",
      "\n",
      "See the caveats in the documentation: https://pandas.pydata.org/pandas-docs/stable/user_guide/indexing.html#returning-a-view-versus-a-copy\n",
      "  df_ground_truth[\"num_types\"] = df_ground_truth[\"num_types\"].apply(pd.to_numeric)\n"
     ]
    }
   ],
   "source": [
    "# count the number of chars in 'ground_truth_text'\n",
    "df_ground_truth[\"num_types\"] = df_ground_truth['ground_truth_text'].str.len()\n",
    "# transfer to 'num_types' to int dtype\n",
    "df_ground_truth[\"num_types\"] = df_ground_truth[\"num_types\"].apply(pd.to_numeric)"
   ]
  },
  {
   "cell_type": "code",
   "execution_count": 20,
   "metadata": {},
   "outputs": [
    {
     "data": {
      "text/plain": [
       "identifier           object\n",
       "ground_truth_text    object\n",
       "date                  int64\n",
       "region_class         object\n",
       "pub_id               object\n",
       "pub_name             object\n",
       "num_types             int64\n",
       "dtype: object"
      ]
     },
     "execution_count": 20,
     "metadata": {},
     "output_type": "execute_result"
    }
   ],
   "source": [
    "df_ground_truth.dtypes"
   ]
  },
  {
   "cell_type": "code",
   "execution_count": 21,
   "metadata": {},
   "outputs": [],
   "source": [
    "# filter df_ground_truth, all ads that have 100 or less types\n",
    "df_ground_truth_short = df_ground_truth[df_ground_truth[\"num_types\"] <= 100]"
   ]
  },
  {
   "cell_type": "code",
   "execution_count": 22,
   "metadata": {},
   "outputs": [
    {
     "data": {
      "text/plain": [
       "'Monteur 9818\\nfür Gas- und Wasserleitung wird auf-\\ngenommen. Löbner, II. Schmelzgasse 14.\\n'"
      ]
     },
     "execution_count": 22,
     "metadata": {},
     "output_type": "execute_result"
    }
   ],
   "source": [
    "df_ground_truth_short[\"ground_truth_text\"].iloc[3]"
   ]
  },
  {
   "cell_type": "code",
   "execution_count": 23,
   "metadata": {},
   "outputs": [
    {
     "data": {
      "text/plain": [
       "'Näherinnen\\nwerden in einer Schneiderei aufge-\\nnommen. I. Rotenturmstraße 13,\\nTür 10. 3712\\n'"
      ]
     },
     "execution_count": 23,
     "metadata": {},
     "output_type": "execute_result"
    }
   ],
   "source": [
    "df_ground_truth_short[\"ground_truth_text\"].iloc[11]"
   ]
  },
  {
   "cell_type": "code",
   "execution_count": 24,
   "metadata": {},
   "outputs": [
    {
     "data": {
      "text/plain": [
       "'Tüchtiger Packer\\nvon der Papierbranche wird aufgenom-\\nmen. X. Davidgasse 92. 5170\\n'"
      ]
     },
     "execution_count": 24,
     "metadata": {},
     "output_type": "execute_result"
    }
   ],
   "source": [
    "df_ground_truth_short[\"ground_truth_text\"].iloc[100]"
   ]
  },
  {
   "cell_type": "markdown",
   "metadata": {},
   "source": [
    "Es scheint, dass auch sehr kurze Anzeigen als normale Stellenanzeige wahrgenommen werden können. Man beachte, dass diese Texte bisher noch nicht bereinigt wurden. \n",
    "Grundsätzlich sollten diese Texte im Korpus enthalten bleiben. "
   ]
  },
  {
   "cell_type": "markdown",
   "metadata": {},
   "source": [
    "#### Verteilung der Längen der Anzeigen der Stellenangebote"
   ]
  },
  {
   "cell_type": "code",
   "execution_count": 25,
   "metadata": {},
   "outputs": [
    {
     "data": {
      "text/plain": [
       "<AxesSubplot:xlabel='Anzahl der der Buchstaben inkl. Whitespace', ylabel='Anzahl der Stellenangebot-Anzeigen'>"
      ]
     },
     "execution_count": 25,
     "metadata": {},
     "output_type": "execute_result"
    },
    {
     "data": {
      "image/png": "[encoded data removed]",
      "text/plain": [
       "<Figure size 864x504 with 1 Axes>"
      ]
     },
     "metadata": {
      "needs_background": "light"
     },
     "output_type": "display_data"
    }
   ],
   "source": [
    "df_offer = df_ground_truth[df_ground_truth.region_class == \"OFFER\"]\n",
    "\n",
    "# visualizing offer-ad length ()\n",
    "\n",
    "plt.figure(figsize=(12,7))\n",
    "plt.ylabel(\"Anzahl der Stellenangebot-Anzeigen\")\n",
    "plt.xlabel(\"Anzahl der der Buchstaben inkl. Whitespace\")\n",
    "\n",
    "df_offer['ground_truth_text'].str.len().hist()"
   ]
  },
  {
   "cell_type": "markdown",
   "metadata": {},
   "source": [
    "#### Verteilung der Längen der Anzeigen der Stellengesuche"
   ]
  },
  {
   "cell_type": "code",
   "execution_count": 26,
   "metadata": {},
   "outputs": [
    {
     "data": {
      "text/plain": [
       "<AxesSubplot:xlabel='Anzahl der der Buchstaben inkl. Whitespace', ylabel='Anzahl der Stellenangebot-Anzeigen'>"
      ]
     },
     "execution_count": 26,
     "metadata": {},
     "output_type": "execute_result"
    },
    {
     "data": {
      "image/png": "[encoded data removed]",
      "text/plain": [
       "<Figure size 864x504 with 1 Axes>"
      ]
     },
     "metadata": {
      "needs_background": "light"
     },
     "output_type": "display_data"
    }
   ],
   "source": [
    "df_offer = df_ground_truth[df_ground_truth.region_class == \"SEARCH\"]\n",
    "\n",
    "# visualizing search-ad length ()\n",
    "\n",
    "plt.figure(figsize=(12,7))\n",
    "plt.ylabel(\"Anzahl der Stellenangebot-Anzeigen\")\n",
    "plt.xlabel(\"Anzahl der der Buchstaben inkl. Whitespace\")\n",
    "\n",
    "df_offer['ground_truth_text'].str.len().hist()"
   ]
  },
  {
   "cell_type": "markdown",
   "metadata": {},
   "source": [
    "### 3.4. Verteilung der Stellenanzeigen nach Jahr"
   ]
  },
  {
   "cell_type": "code",
   "execution_count": 27,
   "metadata": {},
   "outputs": [
    {
     "data": {
      "text/plain": [
       "<AxesSubplot:xlabel='Jahreszahlen der Anzeigen im Gesamtkorpus', ylabel='Anzahl der Anzeigen'>"
      ]
     },
     "execution_count": 27,
     "metadata": {},
     "output_type": "execute_result"
    },
    {
     "data": {
      "image/png": "[encoded data removed]",
      "text/plain": [
       "<Figure size 1368x648 with 1 Axes>"
      ]
     },
     "metadata": {
      "needs_background": "light"
     },
     "output_type": "display_data"
    }
   ],
   "source": [
    "#Visualize numb of jobAds per year\n",
    "plt.figure(figsize=(19,9))\n",
    "plt.xlabel(\"Jahreszahlen der Anzeigen im Gesamtkorpus\")\n",
    "plt.ylabel(\"Anzahl der Anzeigen\")\n",
    "df_date= df_ground_truth[\"date\"]\n",
    "df_date.value_counts().sort_index().plot(kind='bar')"
   ]
  },
  {
   "cell_type": "code",
   "execution_count": null,
   "metadata": {},
   "outputs": [],
   "source": []
  }
 ],
 "metadata": {
  "kernelspec": {
   "display_name": "Python 3 (ipykernel)",
   "language": "python",
   "name": "python3"
  },
  "language_info": {
   "codemirror_mode": {
    "name": "ipython",
    "version": 3
   },
   "file_extension": ".py",
   "mimetype": "text/x-python",
   "name": "python",
   "nbconvert_exporter": "python",
   "pygments_lexer": "ipython3",
   "version": "3.9.7"
  }
 },
 "nbformat": 4,
 "nbformat_minor": 4
}
